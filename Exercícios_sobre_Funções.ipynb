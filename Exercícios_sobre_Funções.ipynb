{
  "nbformat": 4,
  "nbformat_minor": 0,
  "metadata": {
    "colab": {
      "name": "Exercícios sobre Funções",
      "provenance": [],
      "collapsed_sections": []
    },
    "kernelspec": {
      "name": "python3",
      "display_name": "Python 3"
    },
    "language_info": {
      "name": "python"
    }
  },
  "cells": [
    {
      "cell_type": "code",
      "metadata": {
        "colab": {
          "base_uri": "https://localhost:8080/"
        },
        "id": "WUyaMHsO1pIS",
        "outputId": "4839356b-ff23-44d8-c9d8-74dfa6818986"
      },
      "source": [
        "'''1) Faça um programa para imprimir:\n",
        "    1\n",
        "    2   2\n",
        "    3   3   3\n",
        "    .....    n   n   n   n   n   n  ... n\n",
        "para um n informado pelo usuário. Use uma função que receba um valor n inteiro e imprima até a n-ésima linha.'''\n",
        "\n",
        "def exibeNumeros(numero):\n",
        "  for i in range(1, numero + 1):\n",
        "    print((str(i) + ' ') * i)\n",
        "\n",
        "n = int(input('Digite um número: '))\n",
        "while n < 0:\n",
        "  n = int(input('Digite um número: '))\n",
        "\n",
        "exibeNumeros(n)"
      ],
      "execution_count": null,
      "outputs": [
        {
          "output_type": "stream",
          "name": "stdout",
          "text": [
            "Digite um número: 5\n",
            "1 \n",
            "2 2 \n",
            "3 3 3 \n",
            "4 4 4 4 \n",
            "5 5 5 5 5 \n"
          ]
        }
      ]
    },
    {
      "cell_type": "code",
      "metadata": {
        "colab": {
          "base_uri": "https://localhost:8080/"
        },
        "id": "2rgqBCBzrGLb",
        "outputId": "e4d0243b-9187-48e6-a9a7-3ad70aa7b32f"
      },
      "source": [
        "#Resolução do professor\n",
        "\n",
        "def exibirNumeros(numero):\n",
        "\n",
        "  for i in range(numero + 1):\n",
        "    \n",
        "    for x in range(1, i + 1):\n",
        "      print(i, end = ' ')\n",
        "    print()\n",
        "\n",
        "n = int(input('Digite um número: '))\n",
        "while n < 0:\n",
        "  n = int(input('Digite um número: '))\n",
        "\n",
        "exibirNumeros(n)\n"
      ],
      "execution_count": null,
      "outputs": [
        {
          "output_type": "stream",
          "name": "stdout",
          "text": [
            "Digite um número: 10\n",
            "\n",
            "1 \n",
            "2 2 \n",
            "3 3 3 \n",
            "4 4 4 4 \n",
            "5 5 5 5 5 \n",
            "6 6 6 6 6 6 \n",
            "7 7 7 7 7 7 7 \n",
            "8 8 8 8 8 8 8 8 \n",
            "9 9 9 9 9 9 9 9 9 \n",
            "10 10 10 10 10 10 10 10 10 10 \n"
          ]
        }
      ]
    },
    {
      "cell_type": "code",
      "metadata": {
        "colab": {
          "base_uri": "https://localhost:8080/"
        },
        "id": "69yVhALF5daK",
        "outputId": "ddae84d5-abd2-4137-a76b-cea00d318b8c"
      },
      "source": [
        "'''\n",
        "2) Faça um programa para imprimir:\n",
        "   1\n",
        "    1   2\n",
        "    1   2   3\n",
        "    .....    1   2   3   ...  n\n",
        "para um n informado pelo usuário. Use uma função que receba um valor n inteiro imprima até a n-ésima linha.\n",
        "'''\n",
        "\n",
        "def exibirNumeros(numero):\n",
        "\n",
        "  for i in range(numero + 1):\n",
        "    \n",
        "    for x in range(1, i + 1):\n",
        "      print(x, end = ' ')\n",
        "    print()\n",
        "\n",
        "n = int(input('Digite um número: '))\n",
        "while n < 0:\n",
        "  n = int(input('Digite um número: '))\n",
        "\n",
        "exibirNumeros(n)"
      ],
      "execution_count": null,
      "outputs": [
        {
          "output_type": "stream",
          "name": "stdout",
          "text": [
            "Digite um número: 5\n",
            "\n",
            "1 \n",
            "1 2 \n",
            "1 2 3 \n",
            "1 2 3 4 \n",
            "1 2 3 4 5 \n"
          ]
        }
      ]
    },
    {
      "cell_type": "code",
      "metadata": {
        "id": "B4upfOfIiKCL"
      },
      "source": [
        "#3) Faça um programa, com uma função que necessite de três argumentos, e que forneça a soma desses três argumentos.\n",
        "\n",
        "def soma3(n1, n2, n3):\n",
        "  soma = n1 + n2 + n3\n",
        "  return soma"
      ],
      "execution_count": null,
      "outputs": []
    },
    {
      "cell_type": "code",
      "metadata": {
        "colab": {
          "base_uri": "https://localhost:8080/"
        },
        "id": "tonafat3j6iQ",
        "outputId": "c2f8450e-6a27-4e06-988c-2a62a3dabecd"
      },
      "source": [
        "resultado = soma3(5, 6, 7)\n",
        "print(resultado)"
      ],
      "execution_count": null,
      "outputs": [
        {
          "output_type": "stream",
          "name": "stdout",
          "text": [
            "18\n"
          ]
        }
      ]
    },
    {
      "cell_type": "code",
      "metadata": {
        "id": "UQc7cTwFmYLr"
      },
      "source": [
        "#4) Faça um programa, com uma função que necessite de um argumento. A função retorna o valor de caractere ‘P’, se seu argumento for positivo, e ‘N’, se seu argumento for zero ou negativo.\n",
        "\n",
        "def caractere(num):\n",
        "  #num = int(input('Digite um valor: '))\n",
        "  if num <= 0:\n",
        "    print('N')\n",
        "  else:\n",
        "    print('P')\n",
        "  #return num"
      ],
      "execution_count": null,
      "outputs": []
    },
    {
      "cell_type": "code",
      "metadata": {
        "colab": {
          "base_uri": "https://localhost:8080/"
        },
        "id": "Id3c9RdUp7OE",
        "outputId": "0a7cfa47-84eb-4abb-edab-cf70d8e97b5d"
      },
      "source": [
        "caractere(-8)"
      ],
      "execution_count": null,
      "outputs": [
        {
          "output_type": "stream",
          "name": "stdout",
          "text": [
            "N\n"
          ]
        }
      ]
    },
    {
      "cell_type": "code",
      "metadata": {
        "colab": {
          "base_uri": "https://localhost:8080/"
        },
        "id": "MQZhG5nm5qsK",
        "outputId": "d9d4afe1-ff82-4869-c5d4-28e8433258ab"
      },
      "source": [
        "def positivoOuNegativo(num):\n",
        "  if num > 0:\n",
        "    return 'P'\n",
        "  else:\n",
        "    return 'N'\n",
        "\n",
        "n = int(input('Digite o número: '))\n",
        "print(positivoOuNegativo(n))"
      ],
      "execution_count": null,
      "outputs": [
        {
          "output_type": "stream",
          "name": "stdout",
          "text": [
            "Digite o número: -8\n",
            "N\n"
          ]
        }
      ]
    },
    {
      "cell_type": "code",
      "metadata": {
        "colab": {
          "base_uri": "https://localhost:8080/"
        },
        "id": "PQE_QkuypoOU",
        "outputId": "67895282-181e-478f-e9b0-52f8c2c37b3a"
      },
      "source": [
        "#5) Faça uma calculadora utilizando funções que receba dois números e realize as 4 operações básicas da matemática.\n",
        "\n",
        "def soma(n1, n2):\n",
        "  return n1 + n2\n",
        "\n",
        "def sub(n1, n2):\n",
        "  return n1 - n2\n",
        "\n",
        "def mult(n1, n2):\n",
        "  return n1 * n2\n",
        "\n",
        "def div(n1 ,n2):\n",
        "  if n2 == 0:\n",
        "    return 'Não é possivel realizar divisão por 0'\n",
        "  else:\n",
        "    return n1 / n2\n",
        "\n",
        "a = int(input('Digite o primeiro número: '))\n",
        "op = input('Digite a operação: +, -, * ou / -> ')\n",
        "while op != '+' and op != '-' and op != '*' and op != '/':\n",
        "  op = input('Operador inválido! Digite a operação: +, -, * ou / -> ')\n",
        "b = int(input('Digite o segundo número: '))\n",
        "\n",
        "if op == '+':\n",
        "  print(soma(a, b))\n",
        "elif op == '-':\n",
        "  print(sub(a, b))\n",
        "elif op == '*':\n",
        "  print(mult(a, b))\n",
        "elif op == '/':\n",
        "  print(div(a, b))\n",
        "else:\n",
        "  print('A operação que você digitou é inválida!')"
      ],
      "execution_count": null,
      "outputs": [
        {
          "output_type": "stream",
          "name": "stdout",
          "text": [
            "Digite o primeiro número: 5\n",
            "Digite a operação: +, -, * ou / -> g\n",
            "Operador inválido! Digite a operação: +, -, * ou / -> -\n",
            "Digite o segundo número: 9\n",
            "-4\n"
          ]
        }
      ]
    }
  ]
}