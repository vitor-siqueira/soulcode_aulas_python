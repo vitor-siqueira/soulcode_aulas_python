{
  "nbformat": 4,
  "nbformat_minor": 0,
  "metadata": {
    "colab": {
      "name": "Lista de Exercícios - Condição",
      "provenance": [],
      "collapsed_sections": []
    },
    "kernelspec": {
      "name": "python3",
      "display_name": "Python 3"
    },
    "language_info": {
      "name": "python"
    }
  },
  "cells": [
    {
      "cell_type": "code",
      "metadata": {
        "colab": {
          "base_uri": "https://localhost:8080/"
        },
        "id": "_nnC7TrRVV9L",
        "outputId": "ce9c1703-e156-45ea-e576-8a39c57818c0"
      },
      "source": [
        "'''\n",
        "1) Escreva um programa que leia as medidas dos lados de um triângulo e\n",
        "escreva se ele é Equilátero, Isósceles ou Escaleno.\n",
        "\n",
        "Sendo que:\n",
        "− Triângulo Equilátero: possui os 3 lados iguais.\n",
        "− Triângulo Isósceles: possui 2 lados iguais.\n",
        "− Triângulo Escaleno: possui 3 lados diferentes\n",
        "'''\n",
        "\n",
        "m1 = float(input(\"Digite a primeira medida: \"))\n",
        "m2 = float(input(\"Digite a segunda medida: \"))\n",
        "m3 = float(input(\"Digite a terceira medida: \"))\n",
        "\n",
        "if m1 < m2 + m3 and m2 < m1 + m3 and m3 < m1 + m2: # para saber se as medidas informadas formam um triangulo, cada um dos lados tem que ser menor que a soma dos outros dois lados\n",
        "  print(\"Essas medidas forma um triângulo\")\n",
        "  if m1 == m2 and m2 == m3:\n",
        "    print(\"Equilátero\")\n",
        "  elif m1 != m2 and m2 != m3 and m3 != m1:\n",
        "    print(\"Escaleno\")\n",
        "  else:\n",
        "    print(\"Isósceles\")\n",
        "else:\n",
        "  print(\"Essas medidas não formam um triângulo\")"
      ],
      "execution_count": null,
      "outputs": [
        {
          "output_type": "stream",
          "name": "stdout",
          "text": [
            "Digite a primeira medida: 2\n",
            "Digite a segunda medida: 5\n",
            "Digite a terceira medida: 4\n",
            "Essas medidas forma um triângulo\n",
            "Escaleno\n"
          ]
        }
      ]
    },
    {
      "cell_type": "code",
      "metadata": {
        "id": "bhqWaUlnVZIS",
        "colab": {
          "base_uri": "https://localhost:8080/"
        },
        "outputId": "210a7e9f-0ed7-4b87-94fc-189f4a7e9d18"
      },
      "source": [
        "'''\n",
        "2) Desenvolva um algoritmo em Python para determinar o Índice de Massa Corporal (IMC) de uma pessoa.\n",
        "\n",
        "Para fazer o cálculo do IMC basta dividir seu peso em quilogramas (Kg) pela altura ao quadrado (em metros).\n",
        "\n",
        "O número que será gerado deve ser comparado aos valores da tabela IMC, dada abaixo, para definir se você está abaixo, em seu peso ideal ou acima do peso.\n",
        "\n",
        "< 16 - Magreza Grave\n",
        "16 a < 17 - Magreza Moderada\n",
        "17 a < 18,5 - Magreza Leve\n",
        "18,5 a < 25 - Saudável\n",
        "25 a < 30 - Sobrepeso\n",
        "30 a < 35 - Obesidade Grau I\n",
        "35 a < 40 - Obesidade Grau II(Severa)\n",
        ">= 40 - Obesidade Grau III(Mórbida)\n",
        "'''\n",
        "\n",
        "peso = float(input(\"Digite o teu peso em Kg: \"))\n",
        "altura = float(input(\"Digite a sua altura em metros: \"))\n",
        "imc = peso / (altura**2)\n",
        "\n",
        "if imc < 16:\n",
        "  print(f'Seu IMC é {imc:.1f} - Considerado: Magreza Grave!')\n",
        "elif imc == 16 and imc == 17:\n",
        "  print(f'Seu IMC é {imc:.1f} - Considerado: Magreza Moderada')\n",
        "elif imc > 17 and imc<= 18.5:\n",
        "  print(f'Seu IMC é {imc:.1f} - Considerado: Magreza Leve')\n",
        "elif imc > 18.5 and imc <=25:\n",
        "  print(f'Seu IMC é {imc:.1f} - Considerado: Saudável')\n",
        "elif imc > 25 and imc <= 30:\n",
        "  print(f'Seu IMC é {imc:.1f} - Considerado: Sobrepeso')\n",
        "elif imc > 30 and imc <=35:\n",
        "  print(f'Seu IMC é {imc:.1f} - Considerado: Obesidade Grau I')\n",
        "elif imc > 35 and imc <= 40:\n",
        "  print(f'Seu IMC é {imc:.1f} - Considerado: Obesidade Grau II (Severa)')\n",
        "else:\n",
        "  print(f'Seu IMC é {imc:.1f} - Considerado: Obesidade Grau III (Mórbida)')"
      ],
      "execution_count": null,
      "outputs": [
        {
          "output_type": "stream",
          "name": "stdout",
          "text": [
            "Digite o teu peso em Kg: 80\n",
            "Digite a sua altura em metros: 1.7\n",
            "Seu IMC é 27.7 - Considerado: Sobrepeso\n"
          ]
        }
      ]
    },
    {
      "cell_type": "code",
      "metadata": {
        "colab": {
          "base_uri": "https://localhost:8080/"
        },
        "id": "CmQmOJT3Yidc",
        "outputId": "7f726715-2d48-46b6-87e2-14bca588532f"
      },
      "source": [
        "'''\n",
        "3) Escreva um programa para ler o ano de nascimento de uma pessoa e\n",
        "escrever uma mensagem que diga se ela poderá ou não votar este ano\n",
        "(não é necessário considerar o mês em que ela nasceu).\n",
        "'''\n",
        "\n",
        "ano_nasc = int(input(\"Digite o ano de nascimento: \"))\n",
        "ano_atual = 2021\n",
        "idade = ano_atual - ano_nasc\n",
        "\n",
        "if idade < 16:\n",
        "  print(f\"Você tem apenas {idade} anos, ainda não tem o direito de votar\")\n",
        "elif idade <= 16 < 18 or idade > 70:\n",
        "  print(f\"Você tem {idade} anos, para você o voto é facultativo\")\n",
        "else:\n",
        "  print(f\"Você tem {idade} anos, no seu caso o voto é obrigatório\")"
      ],
      "execution_count": null,
      "outputs": [
        {
          "output_type": "stream",
          "name": "stdout",
          "text": [
            "Digite o ano de nascimento: 1929\n",
            "Você tem 92 anos, para você o voto é facultativo\n"
          ]
        }
      ]
    },
    {
      "cell_type": "code",
      "metadata": {
        "id": "JcK43InsVZDJ",
        "colab": {
          "base_uri": "https://localhost:8080/"
        },
        "outputId": "098ac87f-4168-488b-ae46-a0c55ae189d4"
      },
      "source": [
        "'''\n",
        "4) Faça um programa que pede duas notas de um aluno. Em seguida ele deve calcular a média do aluno e dar o seguinte resultado:\n",
        "\n",
        "    A mensagem \"Aprovado\", se a média alcançada for maior ou igual a sete;\n",
        "    A mensagem \"Reprovado\", se a média for menor do que sete;\n",
        "    A mensagem \"Aprovado com Distinção\", se a média for igual a dez.\n",
        "'''\n",
        "\n",
        "nota1 = float(input(\"Digite a primeira nota: \"))\n",
        "nota2 = float(input(\"Digite a segunda nota: \"))\n",
        "media = (nota1 + nota2)/2\n",
        "\n",
        "if media < 7:\n",
        "  print(f'Sua média foi {media}. Reprovado')\n",
        "elif media == 10:\n",
        "  print(f'Sua média foi {media}. Aprovado com Distinção!')\n",
        "else:\n",
        "  print(f'Sua média foi {media}. Aprovado')"
      ],
      "execution_count": null,
      "outputs": [
        {
          "output_type": "stream",
          "name": "stdout",
          "text": [
            "Digite a primeira nota: 7\n",
            "Digite a segunda nota: 7\n",
            "Sua média foi 7.0. Aprovado\n"
          ]
        }
      ]
    },
    {
      "cell_type": "code",
      "metadata": {
        "colab": {
          "base_uri": "https://localhost:8080/"
        },
        "id": "U6pFxMa_1Rvd",
        "outputId": "804ee570-8087-4ee3-b143-d9978920d1a3"
      },
      "source": [
        "'''\n",
        "5) Faça um Programa que pergunte em que turno você estuda. Peça para digitar M-matutino ou V-Vespertino ou N- Noturno.\n",
        "Imprima a mensagem \"Bom Dia!\", \"Boa Tarde!\" ou \"Boa Noite!\" ou \"Valor Inválido!\", conforme o caso.\n",
        "'''\n",
        "\n",
        "turno = input(\"Informe em que turno você estuda: \\n M-Matutino, V-Vespertino ou N-Noturno \")\n",
        "  \n",
        "if turno == \"M\" or turno == \"n\":\n",
        "  print(\"Bom Dia!\")\n",
        "elif turno == \"V\" or turno == \"v\":\n",
        "  print(\"Boa Tarde!\")\n",
        "elif turno == \"N\" or turno == \"n\":\n",
        "  print(\"Boa Noite!\")\n",
        "else:\n",
        "  print(\"Valor Inválido!\")\n"
      ],
      "execution_count": null,
      "outputs": [
        {
          "output_type": "stream",
          "name": "stdout",
          "text": [
            "Informe em que turno você estuda: \n",
            " M-Matutino, V-Vespertino ou N-Noturno v\n",
            "Boa Tarde!\n"
          ]
        }
      ]
    },
    {
      "cell_type": "code",
      "metadata": {
        "id": "3nJM5qfwVzNq",
        "colab": {
          "base_uri": "https://localhost:8080/"
        },
        "outputId": "5db8f226-4d43-4c6e-fc29-831b83ad401b"
      },
      "source": [
        "'''\n",
        "6) As Organizações Tabajara resolveram dar um aumento de salário aos seus colaboradores e lhe contrataram para desenvolver o programa que calculará os reajustes.\n",
        "\n",
        "Faça um programa que recebe o salário de um colaborador e o reajuste segundo o seguinte critério, baseado no salário atual:\n",
        "\n",
        "    salários até R$ 280,00 (incluindo) : aumento de 20%\n",
        "    salários entre R$ 280,00 e R$ 700,00 : aumento de 15%\n",
        "    salários entre R$ 700,00 e R$ 1500,00 : aumento de 10%\n",
        "    salários de R$ 1500,00 em diante : aumento de 5%\n",
        "    \n",
        "    Após o aumento ser realizado, informe na tela:\n",
        "    o salário antes do reajuste;\n",
        "    o percentual de aumento aplicado;\n",
        "    o valor do aumento;\n",
        "    o novo salário, após o aumento.\n",
        "'''\n",
        "\n",
        "sal_atual = float(input(\"Informe o salário do colaborador: R$\"))\n",
        "\n",
        "if sal_atual <= 280.00:\n",
        "  print(f'O salário atual do colaborador é R${sal_atual:.2f} e com o reajuste de 20% que significa R${sal_atual*0.20} a mais, passará a ser R${(sal_atual*0.20) + sal_atual:.2f}')\n",
        "elif sal_atual > 280.00 and sal_atual <= 700.00:\n",
        "  print(f'O salário atual do colaborador é R${sal_atual:.2f} e com o reajuste de 15% que significa R${sal_atual*0.15} a mais, passará a ser R${(sal_atual*0.15) + sal_atual:.2f}')\n",
        "elif sal_atual > 700.00 and sal_atual <= 1500.00:\n",
        "  print(f'O salário atual do colaborador é R${sal_atual:.2f} e com o reajuste de 10% que significa R${sal_atual*0.10} a mais, passará a ser R${(sal_atual*0.10) + sal_atual:.2f}')\n",
        "else:\n",
        "  print(f'O salário atual do colaborador é R${sal_atual:.2f} e com o reajuste de 5% que significa R${sal_atual*0.05} a mais, passará a ser R${(sal_atual*0.05) + sal_atual:.2f}')"
      ],
      "execution_count": null,
      "outputs": [
        {
          "output_type": "stream",
          "name": "stdout",
          "text": [
            "Informe o salário do colaborador: R$2000\n",
            "O salário atual do colaborador é R$2000.00 e com o reajuste de 5% que significa R$100.0 a mais, passará a ser R$2100.00\n"
          ]
        }
      ]
    }
  ]
}