{
  "nbformat": 4,
  "nbformat_minor": 0,
  "metadata": {
    "colab": {
      "name": "Lista de Exercícios - while",
      "provenance": [],
      "collapsed_sections": []
    },
    "kernelspec": {
      "name": "python3",
      "display_name": "Python 3"
    },
    "language_info": {
      "name": "python"
    }
  },
  "cells": [
    {
      "cell_type": "markdown",
      "metadata": {
        "id": "zQV8AsqVR0tQ"
      },
      "source": [
        "# **Exercícios**"
      ]
    },
    {
      "cell_type": "code",
      "metadata": {
        "id": "v0HZm9FsR44o",
        "colab": {
          "base_uri": "https://localhost:8080/"
        },
        "outputId": "6ed02926-d501-44ab-b470-07ef22c84f0a"
      },
      "source": [
        "#1) Escrever um programa para exibir os números de 1 até 50 na tela.\n",
        "\n",
        "cont = 1\n",
        "\n",
        "while cont <= 50:\n",
        "  print(cont, end = ' ')\n",
        "  cont += 1"
      ],
      "execution_count": null,
      "outputs": [
        {
          "output_type": "stream",
          "name": "stdout",
          "text": [
            "1 2 3 4 5 6 7 8 9 10 11 12 13 14 15 16 17 18 19 20 21 22 23 24 25 26 27 28 29 30 31 32 33 34 35 36 37 38 39 40 41 42 43 44 45 46 47 48 49 50 "
          ]
        }
      ]
    },
    {
      "cell_type": "code",
      "metadata": {
        "id": "UFAu0O7zR9rg",
        "colab": {
          "base_uri": "https://localhost:8080/"
        },
        "outputId": "869d74a5-8ec6-4621-9bb7-465948a30a00"
      },
      "source": [
        "#2) Escrever um programa para exibir os números de 25 a 85 na tela.\n",
        "\n",
        "cont = 25\n",
        "\n",
        "while cont <= 85:\n",
        "  print(cont, end = ' ')\n",
        "  cont += 1"
      ],
      "execution_count": null,
      "outputs": [
        {
          "output_type": "stream",
          "name": "stdout",
          "text": [
            "25 26 27 28 29 30 31 32 33 34 35 36 37 38 39 40 41 42 43 44 45 46 47 48 49 50 51 52 53 54 55 56 57 58 59 60 61 62 63 64 65 66 67 68 69 70 71 72 73 74 75 76 77 78 79 80 81 82 83 84 85 "
          ]
        }
      ]
    },
    {
      "cell_type": "code",
      "metadata": {
        "id": "js3xjGydSAFg",
        "colab": {
          "base_uri": "https://localhost:8080/"
        },
        "outputId": "4e2c4e3e-926d-4005-ea83-f74b0e3711df"
      },
      "source": [
        "#3) Escrever um programa para exibir os números de 1 a 100 em ordem inversa.\n",
        "\n",
        "cont = 100\n",
        "\n",
        "while cont >= 1:\n",
        "  print(cont, end = ' ')\n",
        "  cont -= 1"
      ],
      "execution_count": null,
      "outputs": [
        {
          "output_type": "stream",
          "name": "stdout",
          "text": [
            "100 99 98 97 96 95 94 93 92 91 90 89 88 87 86 85 84 83 82 81 80 79 78 77 76 75 74 73 72 71 70 69 68 67 66 65 64 63 62 61 60 59 58 57 56 55 54 53 52 51 50 49 48 47 46 45 44 43 42 41 40 39 38 37 36 35 34 33 32 31 30 29 28 27 26 25 24 23 22 21 20 19 18 17 16 15 14 13 12 11 10 9 8 7 6 5 4 3 2 1 "
          ]
        }
      ]
    },
    {
      "cell_type": "code",
      "metadata": {
        "id": "ST6S_H2MSCl4",
        "colab": {
          "base_uri": "https://localhost:8080/"
        },
        "outputId": "2ee5ce1c-f76c-495e-f76f-b19c228d9a06"
      },
      "source": [
        "#4) Fazer um programa para encontrar todos os números pares entre 1 e 100.\n",
        "\n",
        "cont = 2\n",
        "\n",
        "while cont <= 100:\n",
        "  print(cont, end = ' ')\n",
        "  cont += 2"
      ],
      "execution_count": null,
      "outputs": [
        {
          "output_type": "stream",
          "name": "stdout",
          "text": [
            "2 4 6 8 10 12 14 16 18 20 22 24 26 28 30 32 34 36 38 40 42 44 46 48 50 52 54 56 58 60 62 64 66 68 70 72 74 76 78 80 82 84 86 88 90 92 94 96 98 100 "
          ]
        }
      ]
    },
    {
      "cell_type": "code",
      "metadata": {
        "id": "tqFISXXTSJoB",
        "colab": {
          "base_uri": "https://localhost:8080/"
        },
        "outputId": "0deb2181-b7bc-49f8-8859-bca79760e48e"
      },
      "source": [
        "#5) Fazer um programa para encontrar todos os múltiplos de 3 de 1 a 50.\n",
        "\n",
        "cont = 3\n",
        "\n",
        "while cont <= 50:\n",
        "  print(cont, end = ' ')\n",
        "  cont += 3"
      ],
      "execution_count": null,
      "outputs": [
        {
          "output_type": "stream",
          "name": "stdout",
          "text": [
            "3 6 9 12 15 18 21 24 27 30 33 36 39 42 45 48 "
          ]
        }
      ]
    },
    {
      "cell_type": "code",
      "metadata": {
        "id": "hPiMj_RzSKR4",
        "colab": {
          "base_uri": "https://localhost:8080/"
        },
        "outputId": "70907b10-7686-45f9-b25e-e6435929705b"
      },
      "source": [
        "#6) Ler um valor inteiro (aceitar somente valores entre 1 e 10) e escrever a tabuada de 1 a 10 do valor lido.\n",
        "\n",
        "valor = int(input('Digite um número entre 1 e 10: '))\n",
        "\n",
        "while valor < 1 or valor > 10:\n",
        "  valor = int(input('Esse valor não é válido! Digite um número entre 1 e 10: '))\n",
        "\n",
        "cont = 1\n",
        "while cont <= 10:\n",
        "  print(f'{valor} X {cont} = ', valor * cont)\n",
        "  cont += 1"
      ],
      "execution_count": null,
      "outputs": [
        {
          "output_type": "stream",
          "name": "stdout",
          "text": [
            "Digite um número entre 1 e 10: 11\n",
            "Esse valor não é válido! Digite um número entre 1 e 10: 5\n",
            "5 X 1 =  5\n",
            "5 X 2 =  10\n",
            "5 X 3 =  15\n",
            "5 X 4 =  20\n",
            "5 X 5 =  25\n",
            "5 X 6 =  30\n",
            "5 X 7 =  35\n",
            "5 X 8 =  40\n",
            "5 X 9 =  45\n",
            "5 X 10 =  50\n"
          ]
        }
      ]
    },
    {
      "cell_type": "code",
      "metadata": {
        "id": "f2MeKrunSNdo",
        "colab": {
          "base_uri": "https://localhost:8080/"
        },
        "outputId": "84971314-df24-4ec0-be9d-42a8af7d8391"
      },
      "source": [
        "#7) Faça um programa que leia 5 idades e mostre na tela a média das idades lidas.\n",
        "\n",
        "cont = 1\n",
        "soma_idade = 0\n",
        "\n",
        "while cont <= 5:\n",
        "  idade = int(input('Digite uma idade: '))\n",
        "\n",
        "  while idade <= 0 or idade > 120:\n",
        "    idade = int(input('Idade inváida! Digite uma idade entre 1 e 120: '))\n",
        "\n",
        "  soma_idade += idade\n",
        "  cont += 1\n",
        "\n",
        "media = soma_idade / 5\n",
        "print(f'A média de todas as idades digitadas é {media}')"
      ],
      "execution_count": null,
      "outputs": [
        {
          "output_type": "stream",
          "name": "stdout",
          "text": [
            "Digite uma idade: 77\n",
            "Digite uma idade: 22\n",
            "Digite uma idade: 99\n",
            "Digite uma idade: 21\n",
            "Digite uma idade: 56\n",
            "A média de todas as idades digitadas é 55.0\n"
          ]
        }
      ]
    },
    {
      "cell_type": "code",
      "metadata": {
        "id": "Vx0VS9pSSSZI",
        "colab": {
          "base_uri": "https://localhost:8080/"
        },
        "outputId": "08b3d6be-3336-4c79-b9e1-a935ca6e2638"
      },
      "source": [
        "#8) Ler 10 números e informar na tela quantos números pares foram digitados e quantos números ímpares foram digitados.\n",
        "\n",
        "somaPar = 0\n",
        "somaImpar = 0\n",
        "cont = 1\n",
        "\n",
        "while cont <= 10:\n",
        "  numero = int(input('Digite um número: '))\n",
        "  \n",
        "  if numero % 2 == 0:\n",
        "    somaPar += 1\n",
        "  else:\n",
        "    somaImpar += 1\n",
        "  cont += 1\n",
        "\n",
        "print(f'A quantidade de números pares lidos foi {somaPar}')\n",
        "print(f'A quantidade de números impares lidos foi {somaImpar}')"
      ],
      "execution_count": null,
      "outputs": [
        {
          "output_type": "stream",
          "name": "stdout",
          "text": [
            "Digite um número: 77\n",
            "Digite um número: 22\n",
            "Digite um número: 54\n",
            "Digite um número: 79\n",
            "Digite um número: 64\n",
            "Digite um número: 23\n",
            "Digite um número: 14\n",
            "Digite um número: 21\n",
            "Digite um número: 55\n",
            "Digite um número: 87\n",
            "A quantidade de números pares lidos foi 4\n",
            "A quantidade de números impares lidos foi 6\n"
          ]
        }
      ]
    },
    {
      "cell_type": "code",
      "metadata": {
        "id": "S_9VTq-GSV6A",
        "colab": {
          "base_uri": "https://localhost:8080/"
        },
        "outputId": "0e414e8f-8362-459d-b19b-277e8f355904"
      },
      "source": [
        "#9) Faça um programa que leia 3 notas (de 0 a 10) e informe na tela a média das notas lidas.\n",
        "\n",
        "cont = 1\n",
        "soma_notas = 0\n",
        "\n",
        "while cont <= 3:\n",
        "  notas = float(input('Digite o valor da nota entre 0 e 10: '))\n",
        "\n",
        "  while notas <= 0 or notas > 10:\n",
        "    notas = float(input('Valor inválido! Digite o valor da nota novamente entre 0 e 10: '))\n",
        "\n",
        "  soma_notas += notas\n",
        "  cont += 1\n",
        "\n",
        "media = soma_notas / 3\n",
        "print(f'A média das 3 notas é {media:.1f}')"
      ],
      "execution_count": null,
      "outputs": [
        {
          "output_type": "stream",
          "name": "stdout",
          "text": [
            "Digite o valor da nota entre 0 e 10: 66\n",
            "Valor inválido! Digite o valor da nota novamente entre 0 e 10: 5\n",
            "Digite o valor da nota entre 0 e 10: 7\n",
            "Digite o valor da nota entre 0 e 10: 8.5\n",
            "A média das 3 notas é 6.8\n"
          ]
        }
      ]
    },
    {
      "cell_type": "code",
      "metadata": {
        "id": "qOVWn9igSZIg",
        "colab": {
          "base_uri": "https://localhost:8080/"
        },
        "outputId": "bf7fa952-d462-4b59-a99c-0ac03cd61f4e"
      },
      "source": [
        "'''10) Foi feita uma pesquisa entre os habitantes de uma região. Foram coletados os dados de idade, sexo (M/F) e salário. Faça um programa que calcule e mostre:\n",
        "\n",
        "a) A média dos salários do grupo;\n",
        "b) A maior e a menor idade do grupo;\n",
        "c) A quantidade de mulheres na região;\n",
        "d) A idade e o sexo da pessoa que possui o menor salário;\n",
        "\n",
        "Finalize a entrada de dados ao ser digitada uma idade negativa.'''\n",
        "\n",
        "cont = 0\n",
        "salarios = 0\n",
        "maior_idade = idade\n",
        "menor_idade = idade\n",
        "mulheres = 0\n",
        "menor_salario = salario\n",
        "idade1 = 0\n",
        "sexo1 = 0\n",
        "\n",
        "hab = int(input('Digite a quantidade de habitantes para a pesquisa: '))\n",
        "\n",
        "while cont < hab:\n",
        "  idade = int(input(f'Informe a idade da {cont + 1}ª pessoa: '))\n",
        "  while idade > 120:\n",
        "    idade = int(input(f'Valor inválido! Informe a idade da {cont + 1}ª pessoa entre 0 a 120 anos: '))\n",
        "  while idade <= 0:\n",
        "    print('Fim do Programa!')\n",
        "    break\n",
        "  if idade > maior_idade:\n",
        "    maior_idade = idade\n",
        "  elif idade < menor_idade:\n",
        "    menor_idade = idade    \n",
        "\n",
        "  sexo = input(f'Informe o sexo da {cont + 1}ª pessoa,\\n M - Masculino e F - Feminino: ').upper()[0]\n",
        "  while sexo != 'M' and sexo != 'F' and sexo != 'm' and sexo != 'f':\n",
        "    sexo = input(f'Valor inválido! Informe o sexo da {cont + 1}ª pessoa,\\n M - Masculino e F - Feminino: ')\n",
        "  if sexo == 'F' or sexo == 'f':\n",
        "    mulheres += 1\n",
        "\n",
        "  salario = float(input(f'Informe o salário da {cont + 1}ª pessoa: R$'))\n",
        "  while salario <= 0:\n",
        "    salario = float(input(f'Valor inválido! Informe o salário da {cont + 1}ª pessoa: R$'))\n",
        "  salarios += salario\n",
        "  \n",
        "  if salario < menor_salario:\n",
        "    menor_salario = salario\n",
        "    idade1 = idade\n",
        "    sexo1 = sexo\n",
        "    \n",
        "  \n",
        "  cont += 1\n",
        "\n",
        "print()\n",
        "print(f'A média dos salários do grupo é de R${salarios / hab:.2f}')\n",
        "print(f'A maior idade do grupo é {maior_idade} anos.')\n",
        "print(f'A menor idade do grupo é {menor_idade} anos.')\n",
        "print(f'Temos {mulheres} mulheres na região.')\n",
        "print(f'A pessoa que possui o menor salário que é de {menor_salario:.2f} tem {idade1} anos e é do sexo {sexo1}.')"
      ],
      "execution_count": null,
      "outputs": [
        {
          "output_type": "stream",
          "name": "stdout",
          "text": [
            "Digite a quantidade de habitantes para a pesquisa: 5\n",
            "Informe a idade da 1ª pessoa: 19\n",
            "Informe o sexo da 1ª pessoa,\n",
            " M - Masculino e F - Feminino: f\n",
            "Informe o salário da 1ª pessoa: R$1580.66\n",
            "Informe a idade da 2ª pessoa: 33\n",
            "Informe o sexo da 2ª pessoa,\n",
            " M - Masculino e F - Feminino: f\n",
            "Informe o salário da 2ª pessoa: R$3596.87\n",
            "Informe a idade da 3ª pessoa: 45\n",
            "Informe o sexo da 3ª pessoa,\n",
            " M - Masculino e F - Feminino: m\n",
            "Informe o salário da 3ª pessoa: R$5678.33\n",
            "Informe a idade da 4ª pessoa: 51\n",
            "Informe o sexo da 4ª pessoa,\n",
            " M - Masculino e F - Feminino: m\n",
            "Informe o salário da 4ª pessoa: R$9877.12\n",
            "Informe a idade da 5ª pessoa: 28\n",
            "Informe o sexo da 5ª pessoa,\n",
            " M - Masculino e F - Feminino: f\n",
            "Informe o salário da 5ª pessoa: R$4000\n",
            "\n",
            "A média dos salários do grupo é de R$4946.60\n",
            "A maior idade do grupo é 51 anos.\n",
            "A menor idade do grupo é 19 anos.\n",
            "Temos 3 mulheres na região.\n",
            "A pessoa que possui o menor salário que é de 1580.66 tem 19 anos e é do sexo F.\n"
          ]
        }
      ]
    }
  ]
}