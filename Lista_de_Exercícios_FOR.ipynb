{
  "nbformat": 4,
  "nbformat_minor": 0,
  "metadata": {
    "colab": {
      "name": "Lista de Exercícios - FOR",
      "provenance": [],
      "collapsed_sections": []
    },
    "kernelspec": {
      "name": "python3",
      "display_name": "Python 3"
    },
    "language_info": {
      "name": "python"
    }
  },
  "cells": [
    {
      "cell_type": "code",
      "metadata": {
        "colab": {
          "base_uri": "https://localhost:8080/"
        },
        "id": "1OS0Wj07M6fG",
        "outputId": "0ecb8cb2-ad3c-4b32-81bf-235add0a0f8a"
      },
      "source": [
        "#1) Crie um programa em Python que escreva na tela os números de 250 a 120 em ordem decrescente.\n",
        "\n",
        "for cont in range(250, 119, -1):\n",
        "  print(cont, end = ' ')"
      ],
      "execution_count": null,
      "outputs": [
        {
          "output_type": "stream",
          "name": "stdout",
          "text": [
            "250 249 248 247 246 245 244 243 242 241 240 239 238 237 236 235 234 233 232 231 230 229 228 227 226 225 224 223 222 221 220 219 218 217 216 215 214 213 212 211 210 209 208 207 206 205 204 203 202 201 200 199 198 197 196 195 194 193 192 191 190 189 188 187 186 185 184 183 182 181 180 179 178 177 176 175 174 173 172 171 170 169 168 167 166 165 164 163 162 161 160 159 158 157 156 155 154 153 152 151 150 149 148 147 146 145 144 143 142 141 140 139 138 137 136 135 134 133 132 131 130 129 128 127 126 125 124 123 122 121 120 "
          ]
        }
      ]
    },
    {
      "cell_type": "code",
      "metadata": {
        "colab": {
          "base_uri": "https://localhost:8080/"
        },
        "id": "-b1qpEk0M_DQ",
        "outputId": "37d7d870-12c3-4239-8ed0-b6c31cb70fda"
      },
      "source": [
        "'''2) Em uma turma há 10 alunos. Cada aluno tem 2 notas. Um professor precisa calcular a média das duas notas de cada aluno.\n",
        "Crie um programa que resolva este problema.'''\n",
        "\n",
        "for turma in range(10):\n",
        "  n1 = float(input('Digite a primeira nota: '))\n",
        "  while n1 < 0 or n1 > 10:\n",
        "    n1 = float(input('Nota inválida! Digite uma nota entre 0 e 10: '))\n",
        "\n",
        "  n2 = float(input('Digite a segunda nota: '))\n",
        "  while n1 < 0 or n1 > 10:\n",
        "    n1 = float(input('Nota inválida! Digite uma nota entre 0 e 10: '))\n",
        "\n",
        "  media = (n1 + n2) / 2\n",
        "  print(f'A média do aluno foi {media}')\n",
        "  if turma < 9:\n",
        "    print('Próximo...')\n",
        "  else:\n",
        "    print(\"Fim!\")\n",
        "  turma += 1"
      ],
      "execution_count": null,
      "outputs": [
        {
          "output_type": "stream",
          "name": "stdout",
          "text": [
            "Digite a primeira nota: 99\n",
            "Nota inválida! Digite uma nota entre 0 e 10: 10\n",
            "Digite a segunda nota: 8\n",
            "A média do aluno foi 9.0\n",
            "Próximo...\n",
            "Digite a primeira nota: 110\n",
            "Nota inválida! Digite uma nota entre 0 e 10: 20\n",
            "Nota inválida! Digite uma nota entre 0 e 10: 1\n",
            "Digite a segunda nota: 7\n",
            "A média do aluno foi 4.0\n",
            "Próximo...\n",
            "Digite a primeira nota: 8\n",
            "Digite a segunda nota: 8.5\n",
            "A média do aluno foi 8.25\n",
            "Fim!\n"
          ]
        }
      ]
    },
    {
      "cell_type": "code",
      "metadata": {
        "colab": {
          "base_uri": "https://localhost:8080/"
        },
        "id": "y_h_rrsiRP2s",
        "outputId": "9d2552c0-7711-41eb-d041-f4ea02cab7ba"
      },
      "source": [
        "'''3) Utilizando a estrutura de repetição for, faça um programa em Python que receba 10 números e conte quantos deles estão no intervalo [10,20]\n",
        "e quantos deles estão fora do intervalo, escrevendo estas informações.'''\n",
        "\n",
        "dentro = 0\n",
        "fora = 0\n",
        "\n",
        "for cont in range(10):\n",
        "  num = int(input('Digite um número: '))\n",
        "\n",
        "  if num >= 10 and num <= 20:\n",
        "    dentro += 1\n",
        "  else:\n",
        "    fora += 1\n",
        "\n",
        "print(f'A quantidade de números digitados dentro do intervalo [10, 20] foi {dentro}')\n",
        "print(f'A quantidade de números digitados fora do intervalo [10, 20] foi {fora}')"
      ],
      "execution_count": null,
      "outputs": [
        {
          "output_type": "stream",
          "name": "stdout",
          "text": [
            "Digite um número: 10\n",
            "Digite um número: 99\n",
            "Digite um número: 16\n",
            "Digite um número: 17\n",
            "Digite um número: 22\n",
            "Digite um número: 11\n",
            "Digite um número: 13\n",
            "Digite um número: 21\n",
            "Digite um número: 15\n",
            "Digite um número: 18\n",
            "A quantidade de números digitados dentro do intervalo [10, 20] foi 7\n",
            "A quantidade de números digitados fora do intervalo [10, 20] foi 3\n"
          ]
        }
      ]
    },
    {
      "cell_type": "code",
      "metadata": {
        "colab": {
          "base_uri": "https://localhost:8080/"
        },
        "id": "BIahgEBARyTz",
        "outputId": "9981fe52-0a57-4a3d-be75-1b2146ef8501"
      },
      "source": [
        "'''4) Escreva um programa que leia um valor correspondente ao número de jogadores de um time de vôlei.\n",
        "O programa deverá ler uma altura para cada um dos jogadores e, ao final, informar a altura média do time.'''\n",
        "\n",
        "soma_alt = 0\n",
        "\n",
        "for time in range(6):\n",
        "  alturas = float(input('Digite a altura do jogador: '))\n",
        "\n",
        "  while alturas < 1 or alturas > 3:\n",
        "    alturas = float(input('Altura inválida! Digite uma altura entre 1m e 3m: '))\n",
        "\n",
        "  soma_alt += alturas\n",
        "\n",
        "media = soma_alt / 6\n",
        "print(f'A altura média do time é {media:.2f}m')"
      ],
      "execution_count": null,
      "outputs": [
        {
          "output_type": "stream",
          "name": "stdout",
          "text": [
            "Digite a altura do jogador: 2\n",
            "Digite a altura do jogador: 1.98\n",
            "Digite a altura do jogador: 1.87\n",
            "Digite a altura do jogador: 1.75\n",
            "Digite a altura do jogador: 1.88\n",
            "Digite a altura do jogador: 2.05\n",
            "A altura média do time é 1.92m\n"
          ]
        }
      ]
    },
    {
      "cell_type": "code",
      "metadata": {
        "colab": {
          "base_uri": "https://localhost:8080/"
        },
        "id": "52mejuXpS3Ft",
        "outputId": "2b42c312-0914-41ee-9624-af020dc00ef4"
      },
      "source": [
        "#5) Crie um programa em Python que leia N números (N digitado pelo usuário) e mostre na tela a soma e a média de todos os números lidos.\n",
        "\n",
        "soma_numeros = 0\n",
        "\n",
        "numero = int(input('Digite a quantidade de números a serem lidos: '))\n",
        "\n",
        "while numero < 0:\n",
        "  numero = int(input('A quantidade de números não pode ser negativa! Digite novamente: '))\n",
        "\n",
        "for cont in range(numero):\n",
        "  num = int(input('Digite o número: '))\n",
        "  soma_numeros += num\n",
        "\n",
        "media_numeros = soma_numeros / numero\n",
        "\n",
        "print(f'A soma dos números lidos foi {soma_numeros} e a média foi {media_numeros}')"
      ],
      "execution_count": null,
      "outputs": [
        {
          "output_type": "stream",
          "name": "stdout",
          "text": [
            "Digite a quantidade de números a serem lidos: 3\n",
            "Digite o número: 10\n",
            "Digite o número: 9\n",
            "Digite o número: 8\n",
            "A soma dos números lidos foi 27 e a média foi 9.0\n"
          ]
        }
      ]
    },
    {
      "cell_type": "code",
      "metadata": {
        "colab": {
          "base_uri": "https://localhost:8080/"
        },
        "id": "Hg3aYV5CTgNH",
        "outputId": "349be28e-3190-42ec-bc48-0814046f356b"
      },
      "source": [
        "'''6) Escreva um programa que mostre todos os números entre 5 e 100 que são divisíveis por 7, mas não são múltiplos de 5.\n",
        "Os números obtidos devem ser impressos em sequência.\n",
        "'''\n",
        "\n",
        "for n in range(7, 101, 7):\n",
        "  if n % 5 != 0:\n",
        "    print(n, end=' ')"
      ],
      "execution_count": null,
      "outputs": [
        {
          "output_type": "stream",
          "name": "stdout",
          "text": [
            "7 14 21 28 42 49 56 63 77 84 91 98 "
          ]
        }
      ]
    },
    {
      "cell_type": "code",
      "metadata": {
        "colab": {
          "base_uri": "https://localhost:8080/"
        },
        "id": "9DUSsGGGT1QK",
        "outputId": "624dddac-515f-4fc6-c8bb-36c5d907c4a5"
      },
      "source": [
        "'''7) Faça um programa que receba um número positivo digitado pelo usuário e calcule a soma de todos os números de 1 até ao número digitado.\n",
        "Por exemplo, se o usuário inseriu 4, a saída deve ser 10 (1+2+3+4=10).'''\n",
        "\n",
        "soma = 0\n",
        "n = int(input('Digite um número: '))\n",
        "\n",
        "while n < 1:\n",
        "  n = int(input('Digite um número positivo: '))\n",
        "\n",
        "for cont in range(1, n + 1):\n",
        "  soma += cont\n",
        "\n",
        "print(f'A soma dos números de 1 até {n} é {soma}')"
      ],
      "execution_count": null,
      "outputs": [
        {
          "output_type": "stream",
          "name": "stdout",
          "text": [
            "Digite um número: 4\n",
            "A soma dos números de 1 até 4 é 10\n"
          ]
        }
      ]
    },
    {
      "cell_type": "code",
      "metadata": {
        "colab": {
          "base_uri": "https://localhost:8080/"
        },
        "id": "zN_n7x8RUbFp",
        "outputId": "fd8d505a-e7b5-47d7-d638-1a56b282e230"
      },
      "source": [
        "#8) Escreva um programa em Python para encontrar o fatorial de qualquer número.\n",
        "#FAT 5 = 5 x 4 x 3 x 2 x 1 = 120\n",
        "\n",
        "resultado = 1 #inicia com 1 porque é uma multiplicação\n",
        "\n",
        "numero = int(input(\"Fatorial de: \") )\n",
        "while numero < 0:\n",
        "  numero = int(input('Número inválido! Digite o número maior ou igual a 0: '))\n",
        "\n",
        "for n in range(1, numero + 1):\n",
        "    resultado *= n\n",
        "\n",
        "print(f'O fatorial de {numero} é {resultado}')"
      ],
      "execution_count": null,
      "outputs": [
        {
          "output_type": "stream",
          "name": "stdout",
          "text": [
            "Fatorial de: 5\n",
            "O fatorial de 5 é 120\n"
          ]
        }
      ]
    },
    {
      "cell_type": "code",
      "metadata": {
        "colab": {
          "base_uri": "https://localhost:8080/"
        },
        "id": "1sDTZraFV0Ow",
        "outputId": "298354db-61d3-4806-ed2e-514985ea27db"
      },
      "source": [
        "#9) Escreva um programa em Python que leia um número inteiro positivo e diga se o número informado é primo.\n",
        "\n",
        "div = 0\n",
        "\n",
        "n = int(input('Digite o número: '))\n",
        "\n",
        "while n < 0:\n",
        "  n = int(input('Número inválido! Digite um número maior ou igual a 0: '))\n",
        "\n",
        "for c in range(1, n + 1):\n",
        "  if n % c == 0:\n",
        "    div += 1\n",
        "\n",
        "if div == 2:\n",
        "  print(f'O número {n} é primo!')\n",
        "else:\n",
        "  print(f'O número {n} não é primo!')"
      ],
      "execution_count": null,
      "outputs": [
        {
          "output_type": "stream",
          "name": "stdout",
          "text": [
            "Digite o número: 41\n",
            "O número 41 é primo!\n"
          ]
        }
      ]
    },
    {
      "cell_type": "code",
      "metadata": {
        "colab": {
          "base_uri": "https://localhost:8080/"
        },
        "id": "L1an1fNpWQrL",
        "outputId": "27c51aaf-53ce-4d6b-ef42-44a2707e8907"
      },
      "source": [
        "'''10) Digitados dois números (base e expoente ), calcule o resultado  da potência utilizando apenas operadores básicos da\n",
        "matemática(soma, subtração, multiplicação ou divisão) e o comando FOR'''\n",
        "\n",
        "print(\"Base ^ Expoente:\")\n",
        "base = int(input(\"Digite o número da base: \"))\n",
        "expoente = int(input(\"Digite o número do expoente: \"))\n",
        "\n",
        "potencia = 1\n",
        "\n",
        "for i in range(expoente):\n",
        "    potencia *= base #potencia = potencia * base\n",
        "\n",
        "print(base, \"^\", expoente, \"=\", potencia)"
      ],
      "execution_count": null,
      "outputs": [
        {
          "output_type": "stream",
          "name": "stdout",
          "text": [
            "Base ^ Expoente:\n",
            "Digite o número da base: 3\n",
            "Digite o número do expoente: 3\n",
            "3 ^ 3 = 27\n"
          ]
        }
      ]
    }
  ]
}