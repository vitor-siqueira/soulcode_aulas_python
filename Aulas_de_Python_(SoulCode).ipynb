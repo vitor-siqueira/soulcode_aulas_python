{
  "nbformat": 4,
  "nbformat_minor": 0,
  "metadata": {
    "colab": {
      "name": "Aulas de Python (SoulCode).ipynb",
      "provenance": [],
      "collapsed_sections": []
    },
    "kernelspec": {
      "name": "python3",
      "display_name": "Python 3"
    },
    "language_info": {
      "name": "python"
    }
  },
  "cells": [
    {
      "cell_type": "code",
      "metadata": {
        "colab": {
          "base_uri": "https://localhost:8080/"
        },
        "id": "XdnJMkeMJlZg",
        "outputId": "cf089028-dd8a-47f3-eed3-be24f6c59119"
      },
      "source": [
        "print(\"Olá Mundo!\")"
      ],
      "execution_count": 1,
      "outputs": [
        {
          "output_type": "stream",
          "name": "stdout",
          "text": [
            "Olá Mundo!\n"
          ]
        }
      ]
    },
    {
      "cell_type": "code",
      "metadata": {
        "colab": {
          "base_uri": "https://localhost:8080/"
        },
        "id": "nLHqiZ7Oib5Y",
        "outputId": "421e5526-924c-4e64-9e8f-7db30257eb9c"
      },
      "source": [
        "# Crie um programa que faça as 4 operações básicas utilizando o seguintes números: 10, 99, 13 e 44. Faça testes aleatórios\n",
        "\n",
        "n1 = 10\n",
        "n2 = 99\n",
        "n3 = 13\n",
        "n4 = 44\n",
        "\n",
        "# Soma\n",
        "\n",
        "soma = n1 + n2\n",
        "print(soma)\n",
        "\n",
        "# Subtração\n",
        "\n",
        "subtracao = n4 - n3\n",
        "print(subtracao)\n",
        "\n",
        "# Multiplicação\n",
        "\n",
        "multiplicacao = n4 * 10\n",
        "print(multiplicacao)\n",
        "\n",
        "# Divisão\n",
        "\n",
        "divisao = n1 / 2\n",
        "print(divisao)\n",
        "\n",
        "print(soma, subtracao, multiplicacao, divisao)"
      ],
      "execution_count": 2,
      "outputs": [
        {
          "output_type": "stream",
          "name": "stdout",
          "text": [
            "109\n",
            "31\n",
            "440\n",
            "5.0\n",
            "109 31 440 5.0\n"
          ]
        }
      ]
    },
    {
      "cell_type": "code",
      "metadata": {
        "colab": {
          "base_uri": "https://localhost:8080/"
        },
        "id": "Ho7w1PXHpEpT",
        "outputId": "a453d463-816f-4731-e869-b4f6407c6ab3"
      },
      "source": [
        "# Crie um programa que retorne a divisão exata entre 36 e 5\n",
        "\n",
        "n5 = 36\n",
        "n6 = 5\n",
        "\n",
        "div = n5 // n6\n",
        "print(div)"
      ],
      "execution_count": 3,
      "outputs": [
        {
          "output_type": "stream",
          "name": "stdout",
          "text": [
            "7\n"
          ]
        }
      ]
    },
    {
      "cell_type": "code",
      "metadata": {
        "colab": {
          "base_uri": "https://localhost:8080/"
        },
        "id": "adsxh3Qipah3",
        "outputId": "15e001b6-f23f-4e06-9ad4-5ada24037c93"
      },
      "source": [
        "# Crie um programa que mostre na tela o resto da divisão entre os números 46 e 4\n",
        "\n",
        "n7 = 46\n",
        "n8 = 4\n",
        "\n",
        "rest = n7 % n8\n",
        "print(rest)"
      ],
      "execution_count": 4,
      "outputs": [
        {
          "output_type": "stream",
          "name": "stdout",
          "text": [
            "2\n"
          ]
        }
      ]
    },
    {
      "cell_type": "code",
      "metadata": {
        "colab": {
          "base_uri": "https://localhost:8080/"
        },
        "id": "JT-06_3xpv-4",
        "outputId": "adeea65f-278c-49b6-81fd-39cd5cc48c7c"
      },
      "source": [
        "# Entrada de dados\n",
        "\n",
        "nome = str(input(\"Digite o seu nome: \"))\n",
        "idade = int(input(\"Digite a sua idade: \"))\n",
        "altura = float(input(\"Digite a sua altura: \"))\n",
        "\n",
        "print(\"O seu nome é\", nome, \"e a sua idade é\", idade, \"e a sua altura é\", altura)"
      ],
      "execution_count": 6,
      "outputs": [
        {
          "output_type": "stream",
          "name": "stdout",
          "text": [
            "Digite o seu nome: James\n",
            "Digite a sua idade: 44\n",
            "Digite a sua altura: 2\n",
            "O seu nome é James e a sua idade é 44 e a sua altura é 2.0\n"
          ]
        }
      ]
    },
    {
      "cell_type": "code",
      "metadata": {
        "colab": {
          "base_uri": "https://localhost:8080/"
        },
        "id": "IQlI_vZUv9bh",
        "outputId": "b45731b9-23a8-401a-b675-f4f3abb82be5"
      },
      "source": [
        "# 1) Faça um algoritmo que leia 2 números e execute as 4 operações básicas (Soma, subtração, multiplicação e divisão)\n",
        "\n",
        "numero1 = int(input(\"Digite um número: \"))\n",
        "numero2 = int(input(\"Digite outro número: \"))\n",
        "so = numero1 + numero2\n",
        "su = numero1 - numero2\n",
        "mult = numero1 * numero2\n",
        "div = numero1 / numero2\n",
        "\n",
        "print(\"A soma é {}, a subtração é {}, a multiplicação é {} e a divisão é {}.\".format(so, su, mult, div))"
      ],
      "execution_count": null,
      "outputs": [
        {
          "output_type": "stream",
          "name": "stdout",
          "text": [
            "Digite um número: 10\n",
            "Digite outro número: 2\n",
            "A soma é 12, a subtração é 8, a multiplicação é 20 e a divisão é 5.0.\n"
          ]
        }
      ]
    },
    {
      "cell_type": "code",
      "metadata": {
        "colab": {
          "base_uri": "https://localhost:8080/"
        },
        "id": "DVbAQkf6yUEH",
        "outputId": "b24b978b-dd51-406f-866a-1917e1fb36f1"
      },
      "source": [
        "# 2) Faça um programa que leia 2 números inteiros e mostre o primeiro elevado ao segundo e o segundo elevado ao primeiro\n",
        "\n",
        "n1 = int(input(\"Digite um número inteiro: \"))\n",
        "n2 = int(input(\"Digite outro número inteiro: \"))\n",
        "\n",
        "expo1 = n1 ** n2\n",
        "expo2 = n2 ** n1\n",
        "\n",
        "print(\"{} elevado a {} é {}, e {} elevado a {} é {}.\".format(n1, n2, expo1, n2, n1, expo2))"
      ],
      "execution_count": null,
      "outputs": [
        {
          "output_type": "stream",
          "name": "stdout",
          "text": [
            "Digite um número inteiro: 3\n",
            "Digite outro número inteiro: 9\n",
            "3 elevado a 9 é 19683, e 9 elevado a 3 é 729.\n"
          ]
        }
      ]
    },
    {
      "cell_type": "code",
      "metadata": {
        "colab": {
          "base_uri": "https://localhost:8080/"
        },
        "id": "luyhSH1szzwM",
        "outputId": "0e3a03fa-5ae9-442d-bda8-185e4998786e"
      },
      "source": [
        "# 3) Faça um programa que leia um número e mostre na tela o cubo desse número\n",
        "\n",
        "n3 = int(input(\"Digite um número: \"))\n",
        "\n",
        "cubo = n3 ** 3\n",
        "\n",
        "print(\"O número {} elevado ao cubo é {}.\".format(n3, cubo))"
      ],
      "execution_count": null,
      "outputs": [
        {
          "output_type": "stream",
          "name": "stdout",
          "text": [
            "Digite um número: 3\n",
            "O número 3 elevado ao cubo é 27.\n"
          ]
        }
      ]
    },
    {
      "cell_type": "code",
      "metadata": {
        "colab": {
          "base_uri": "https://localhost:8080/"
        },
        "id": "v6AEY2Ci01la",
        "outputId": "eefbcb9a-139a-473e-8baf-0d52969f2e58"
      },
      "source": [
        "# 4) Faça um programa que leia 2 números e mostre a divisão exata do primeiro pelo segundo e também o resto da divisão.\n",
        "\n",
        "n4 = int(input(\"Digite um número: \"))\n",
        "n5 = int(input(\"Digite outro número: \"))\n",
        "\n",
        "div = n4 // n5\n",
        "rest = n4 % n5\n",
        "\n",
        "print(\"A divisão exata de {} e {} é {}. E o resto da divisão é {}.\".format(n4, n5, div, rest))"
      ],
      "execution_count": null,
      "outputs": [
        {
          "output_type": "stream",
          "name": "stdout",
          "text": [
            "Digite um número: 15\n",
            "Digite outro número: 7\n",
            "A divisão exata de 15 e 7 é 2. E o resto da divisão é 1.\n"
          ]
        }
      ]
    },
    {
      "cell_type": "code",
      "metadata": {
        "colab": {
          "base_uri": "https://localhost:8080/"
        },
        "id": "yFdF6LAD1yEw",
        "outputId": "b557dd18-aacc-4198-cc6c-e264cf43e644"
      },
      "source": [
        "# 5) Faça um programa que leia um salário e também as despesas de uma pessoa e diga a porcentagem que a despesa representa em relação ao salário.\n",
        "\n",
        "salario = float(input(\"Informe o seu salário: R$\"))\n",
        "despesa = float(input(\"Informe a sua despera: R$\"))\n",
        "\n",
        "valor = (despesa / salario) * 100\n",
        "\n",
        "print(\"A porcentagem de despesas em relação ao salário é de {}%.\".format(valor))"
      ],
      "execution_count": null,
      "outputs": [
        {
          "output_type": "stream",
          "name": "stdout",
          "text": [
            "Informe o seu salário: R$1852\n",
            "Informe a sua despera: R$114\n",
            "A porcentagem de despesas em relação ao salário é de 6.155507559395248%.\n"
          ]
        }
      ]
    },
    {
      "cell_type": "code",
      "metadata": {
        "colab": {
          "base_uri": "https://localhost:8080/"
        },
        "id": "OINCXE1K2ypC",
        "outputId": "09e9806f-e31b-4b7e-90a6-38b83cfb383c"
      },
      "source": [
        "# 6) Faça um programa que solicite a base e altura de um retângulo e informe a sua área e perímetro.\n",
        "\n",
        "base = float(input(\"Qual é o valor da base? \"))\n",
        "altura = float(input(\"Qual é o valor da altura? \"))\n",
        "\n",
        "area = base * altura\n",
        "perimetro = (base * 2) + (altura * 2)\n",
        "\n",
        "print(\"A área do retângulo é de {} e o perímetro é de {}.\".format(area, perimetro))"
      ],
      "execution_count": null,
      "outputs": [
        {
          "output_type": "stream",
          "name": "stdout",
          "text": [
            "Qual é o valor da base? 2\n",
            "Qual é o valor da altura? 3\n",
            "A área do retângulo é de 6.0 e o perímetro é de 10.0.\n"
          ]
        }
      ]
    },
    {
      "cell_type": "code",
      "metadata": {
        "colab": {
          "base_uri": "https://localhost:8080/"
        },
        "id": "IJlr7jNMEaTu",
        "outputId": "52b254f3-c46f-40a8-8c6f-83df67ebf2d0"
      },
      "source": [
        "# 7) Faça um programa que solicite o nome e preço de custo de um produto qualquer, após, processe um aumento de 65% e informe qual será o preço de venda.\n",
        "\n",
        "produto = input(\"Informe o nome do produto: \")\n",
        "preco = float(input(\"Informe o valor do produto: R$\"))\n",
        "\n",
        "aumento = (preco * 0.65) + preco # ou preco * 1.65\n",
        "\n",
        "#print(\"O produto é {} e o preço de venda é R${}.\".format(produto, aumento))\n",
        "print(f\"O produto é um(a) {produto} e o preço de venda é R${aumento}.\")"
      ],
      "execution_count": null,
      "outputs": [
        {
          "output_type": "stream",
          "name": "stdout",
          "text": [
            "Informe o nome do produto: Celular\n",
            "Informe o valor do produto: R$1000\n",
            "O produto é um(a)Celular e o preço de venda é R$1650.0.\n"
          ]
        }
      ]
    },
    {
      "cell_type": "code",
      "metadata": {
        "colab": {
          "base_uri": "https://localhost:8080/"
        },
        "id": "ekIs811zEqpy",
        "outputId": "a5ec6e0b-e010-49f0-a808-cdbbc44dd0fc"
      },
      "source": [
        "'''Faça um programa que pergunte quanto a pessoa quer emprestado, faça o cálculo do empréstimo a juros compostos. Para fazer o empréstimo solicite:\n",
        "\n",
        "- Quanto ela quer emprestado?\n",
        "- Em quantos meses ela vai pagar?\n",
        "\n",
        "* A taxa de juros será de 2% ao mês.\n",
        "\n",
        "Segue a fórmula dos Juros Compostos: M = C x (1+i)^t\n",
        "\n",
        "M é o valor final após a aplicação dos juros\n",
        "C é o valor que a pessoa vai pegar emprestado\n",
        "i é a taxa de juros\n",
        "t é o tempo\n",
        "\n",
        "Ao final mostre quanto a pessoa pagará após a aplicação dos juros.\n",
        "'''\n",
        "\n",
        "emprestado = float(input(\"Qual é o valor desejado? R$\"))\n",
        "meses = int(input(\"Em quantos meses deseja pagar? \"))\n",
        "\n",
        "m = emprestado * (1+0.02)**meses\n",
        "j = m - emprestado\n",
        "m2 = emprestado + j\n",
        "\n",
        "print(\"O valor final a ser pago é de R${:.2f}\".format(m))\n",
        "print(\"Ou seja você pegará R${:.2f} de juros.\".format(j))"
      ],
      "execution_count": null,
      "outputs": [
        {
          "output_type": "stream",
          "name": "stdout",
          "text": [
            "Qual é o valor desejado? R$1000\n",
            "Em quantos meses deseja pagar? 12\n",
            "O valor final a ser pago é de R$1268.24\n",
            "Ou seja você pegará R$268.24 de juros.\n"
          ]
        }
      ]
    },
    {
      "cell_type": "code",
      "metadata": {
        "id": "4koI4ESsKdAa"
      },
      "source": [
        "A = 2\n",
        "B = 7\n",
        "C = 3.5\n",
        "L = False"
      ],
      "execution_count": null,
      "outputs": []
    },
    {
      "cell_type": "code",
      "metadata": {
        "colab": {
          "base_uri": "https://localhost:8080/"
        },
        "id": "9GaYMPRIJ2Im",
        "outputId": "9003aa12-c92e-4c56-8f25-968ad5c0d6c9"
      },
      "source": [
        "B==A*C and (L or True)"
      ],
      "execution_count": null,
      "outputs": [
        {
          "output_type": "execute_result",
          "data": {
            "text/plain": [
              "True"
            ]
          },
          "metadata": {},
          "execution_count": 9
        }
      ]
    },
    {
      "cell_type": "code",
      "metadata": {
        "colab": {
          "base_uri": "https://localhost:8080/"
        },
        "id": "qLx50iXoJ3D4",
        "outputId": "457b3e01-b61d-463d-8852-283e1e397690"
      },
      "source": [
        "B > A or B > A**A"
      ],
      "execution_count": null,
      "outputs": [
        {
          "output_type": "execute_result",
          "data": {
            "text/plain": [
              "True"
            ]
          },
          "metadata": {},
          "execution_count": 10
        }
      ]
    },
    {
      "cell_type": "code",
      "metadata": {
        "colab": {
          "base_uri": "https://localhost:8080/"
        },
        "id": "x4uxTwdMJ8HG",
        "outputId": "ffed2aab-e0cf-445c-9510-a3763025b2a2"
      },
      "source": [
        "L and B > A or C < A and A <= C"
      ],
      "execution_count": null,
      "outputs": [
        {
          "output_type": "execute_result",
          "data": {
            "text/plain": [
              "False"
            ]
          },
          "metadata": {},
          "execution_count": 11
        }
      ]
    },
    {
      "cell_type": "code",
      "metadata": {
        "colab": {
          "base_uri": "https://localhost:8080/"
        },
        "id": "uYVFJwzZKHPQ",
        "outputId": "43edfc86-923c-4c5a-cad2-436d349c0cda"
      },
      "source": [
        "not L or True and A + B >= C"
      ],
      "execution_count": null,
      "outputs": [
        {
          "output_type": "execute_result",
          "data": {
            "text/plain": [
              "True"
            ]
          },
          "metadata": {},
          "execution_count": 12
        }
      ]
    },
    {
      "cell_type": "code",
      "metadata": {
        "colab": {
          "base_uri": "https://localhost:8080/"
        },
        "id": "oVANixt8LKwL",
        "outputId": "4f851fb9-e444-4a1a-eee0-20758d4186eb"
      },
      "source": [
        "B/A == C or B/A != 3.5"
      ],
      "execution_count": null,
      "outputs": [
        {
          "output_type": "execute_result",
          "data": {
            "text/plain": [
              "True"
            ]
          },
          "metadata": {},
          "execution_count": 13
        }
      ]
    },
    {
      "cell_type": "code",
      "metadata": {
        "colab": {
          "base_uri": "https://localhost:8080/"
        },
        "id": "87zYE2OkLR_K",
        "outputId": "6bb64754-4a7d-421f-b29a-d44c5e487778"
      },
      "source": [
        "L or B ** A <= C * 10 + A * B"
      ],
      "execution_count": null,
      "outputs": [
        {
          "output_type": "execute_result",
          "data": {
            "text/plain": [
              "True"
            ]
          },
          "metadata": {},
          "execution_count": 14
        }
      ]
    },
    {
      "cell_type": "code",
      "metadata": {
        "id": "XDBiLf2uMhV6"
      },
      "source": [
        "A = 5\n",
        "B = 10\n",
        "C = -8\n",
        "D = 1.5"
      ],
      "execution_count": null,
      "outputs": []
    },
    {
      "cell_type": "code",
      "metadata": {
        "colab": {
          "base_uri": "https://localhost:8080/"
        },
        "id": "ymw5p-b3Ouyd",
        "outputId": "9634caf4-2fe0-4882-b1b9-c4019ba7442c"
      },
      "source": [
        "( ( 20 / 3 ) / 3 ) + 2**8 / 2"
      ],
      "execution_count": null,
      "outputs": [
        {
          "output_type": "execute_result",
          "data": {
            "text/plain": [
              "130.22222222222223"
            ]
          },
          "metadata": {},
          "execution_count": 25
        }
      ]
    },
    {
      "cell_type": "code",
      "metadata": {
        "colab": {
          "base_uri": "https://localhost:8080/"
        },
        "id": "CS-s0f4FOvGL",
        "outputId": "a8e72bff-0b56-4eb6-fb39-7a5d6b3651dd"
      },
      "source": [
        "( 30 % 4 * 3 ** 3 ) * -1"
      ],
      "execution_count": null,
      "outputs": [
        {
          "output_type": "execute_result",
          "data": {
            "text/plain": [
              "-54"
            ]
          },
          "metadata": {},
          "execution_count": 26
        }
      ]
    },
    {
      "cell_type": "code",
      "metadata": {
        "colab": {
          "base_uri": "https://localhost:8080/"
        },
        "id": "rFVM-UI2OvT8",
        "outputId": "d006f024-6dc5-4057-a6a1-5b4823f92a57"
      },
      "source": [
        "-C**2 + ( D * 10 ) / A"
      ],
      "execution_count": null,
      "outputs": [
        {
          "output_type": "execute_result",
          "data": {
            "text/plain": [
              "-61.0"
            ]
          },
          "metadata": {},
          "execution_count": 27
        }
      ]
    },
    {
      "cell_type": "code",
      "metadata": {
        "colab": {
          "base_uri": "https://localhost:8080/"
        },
        "id": "pKQG5FKYNnAJ",
        "outputId": "5fa81282-bbac-478f-ddee-5de3511aabad"
      },
      "source": [
        "'''Crie um programa que leia um número inteiro de 3 dígitos e inverta esse número. Ao final, exiba o resultado na tela.\n",
        "\n",
        "Ex: usuário digita 514\n",
        "O resultado a ser exibido é 415\n",
        "Usuário digita 123\n",
        "O resultado a ser exibido é 321'''\n",
        "\n",
        "num = int(input(\"Digite um número inteiro com 3 dígitos: \"))\n",
        "cent = num//100 # pega o resto da divisão \n",
        "dez = (num%100)//10 \n",
        "unid = num%10\n",
        "\n",
        "print(f'Você digitou {num} e ele invertido fica {unid}{dez}{cent}')"
      ],
      "execution_count": null,
      "outputs": [
        {
          "output_type": "stream",
          "name": "stdout",
          "text": [
            "Digite um número inteiro com 3 dígitos: 789\n",
            "Você digitou 789 e ele invertido fica 987\n"
          ]
        }
      ]
    },
    {
      "cell_type": "markdown",
      "metadata": {
        "id": "acsOzcmKCMD2"
      },
      "source": [
        "# **Aula de String**"
      ]
    },
    {
      "cell_type": "code",
      "metadata": {
        "colab": {
          "base_uri": "https://localhost:8080/"
        },
        "id": "TOCepLqqCkh9",
        "outputId": "9c9c1e95-9280-4ca3-cb9b-0e8eb4f8b808"
      },
      "source": [
        "# 1) Crie um programa que compara duas strings e veja se elas são iguais.\n",
        "\n",
        "s1 = input(\"Digite uma palavra: \")\n",
        "s2 = input(\"Digite outra palavra: \")\n",
        "\n",
        "resultado = s1 == s2\n",
        "print(resultado)"
      ],
      "execution_count": null,
      "outputs": [
        {
          "output_type": "stream",
          "name": "stdout",
          "text": [
            "Digite uma palavra: B\n",
            "Digite outra palavra: B\n",
            "True\n"
          ]
        }
      ]
    },
    {
      "cell_type": "code",
      "metadata": {
        "colab": {
          "base_uri": "https://localhost:8080/",
          "height": 53
        },
        "id": "VIO0jYy1Cnph",
        "outputId": "6621b7ab-c912-47ea-dcba-0d27531e7cae"
      },
      "source": [
        "# 2) Faça um programa que leia um nome completo e imprima as 4 primeiras letras do nome.\n",
        "\n",
        "nome = input(\"Informe o seu nome completo: \")\n",
        "nome[:4]"
      ],
      "execution_count": 8,
      "outputs": [
        {
          "name": "stdout",
          "output_type": "stream",
          "text": [
            "Informe o seu nome completo: Jorge Alfredo de Assis\n"
          ]
        },
        {
          "output_type": "execute_result",
          "data": {
            "application/vnd.google.colaboratory.intrinsic+json": {
              "type": "string"
            },
            "text/plain": [
              "'Jorg'"
            ]
          },
          "metadata": {},
          "execution_count": 8
        }
      ]
    },
    {
      "cell_type": "code",
      "metadata": {
        "colab": {
          "base_uri": "https://localhost:8080/"
        },
        "id": "gdJn9Wh8CpZr",
        "outputId": "6dc490b1-bced-493d-f0de-8183a766159e"
      },
      "source": [
        "# 3) Com o mesmo nome da questão 2, agora verifique a quantidade de caracteres que contém o nome digitado (Não pode contar os espaços em branco)\n",
        "\n",
        "nome1 = nome.replace(\" \", \"\")\n",
        "len(nome1)"
      ],
      "execution_count": null,
      "outputs": [
        {
          "output_type": "execute_result",
          "data": {
            "text/plain": [
              "22"
            ]
          },
          "metadata": {},
          "execution_count": 49
        }
      ]
    },
    {
      "cell_type": "code",
      "metadata": {
        "colab": {
          "base_uri": "https://localhost:8080/"
        },
        "id": "bXsApoaNDGGf",
        "outputId": "96f73a01-5399-4691-da7c-1dd358c31e29"
      },
      "source": [
        "# 4) Leia uma frase qualquer e verifique se a pessoa digitou a palavra “cachorro” nessa frase (Não importa a maneira como a pessoa escreveu)\n",
        "\n",
        "frase = \"Nessa frase tem a palavra cachorro.\"\n",
        "palavra = \"cachorro\"\n",
        "\n",
        "palavra in frase"
      ],
      "execution_count": null,
      "outputs": [
        {
          "output_type": "execute_result",
          "data": {
            "text/plain": [
              "True"
            ]
          },
          "metadata": {},
          "execution_count": 45
        }
      ]
    },
    {
      "cell_type": "code",
      "metadata": {
        "colab": {
          "base_uri": "https://localhost:8080/",
          "height": 52
        },
        "id": "c_Xd34QODG0N",
        "outputId": "3eb2be26-3869-4a40-c78a-ecb2b735d0eb"
      },
      "source": [
        "# 5) Crie um programa que leia uma string e mostre a string de trás pra frente até o 6º caractere\n",
        "\n",
        "s1 = input(\"Digite uma palavra qualquer: \")\n",
        "\n",
        "s1[-6:]"
      ],
      "execution_count": null,
      "outputs": [
        {
          "name": "stdout",
          "output_type": "stream",
          "text": [
            "Digite uma palavra qualquer: ABCDEFGH\n"
          ]
        },
        {
          "output_type": "execute_result",
          "data": {
            "application/vnd.google.colaboratory.intrinsic+json": {
              "type": "string"
            },
            "text/plain": [
              "'CDEFGH'"
            ]
          },
          "metadata": {},
          "execution_count": 50
        }
      ]
    },
    {
      "cell_type": "code",
      "metadata": {
        "colab": {
          "base_uri": "https://localhost:8080/"
        },
        "id": "z2hjRhCuDIIw",
        "outputId": "32efa048-91b4-4f48-9aed-a813716d9005"
      },
      "source": [
        "# 6) Faça um programa que conte o numero de 1’s que aparecem em uma string. Exemplo: ´ 0011001 -> 3\n",
        "\n",
        "num1 = input(\"Digite um número qualquer que contenha vários números 1: \")\n",
        "\n",
        "num1.count('1')"
      ],
      "execution_count": null,
      "outputs": [
        {
          "name": "stdout",
          "output_type": "stream",
          "text": [
            "Digite um número qualquer que contenha vários números 1: 11155448118441\n"
          ]
        },
        {
          "output_type": "execute_result",
          "data": {
            "text/plain": [
              "6"
            ]
          },
          "metadata": {},
          "execution_count": 51
        }
      ]
    },
    {
      "cell_type": "code",
      "metadata": {
        "colab": {
          "base_uri": "https://localhost:8080/"
        },
        "id": "3Ku8rhIfDOYr",
        "outputId": "27546ef4-8048-4e90-b331-dc1d4f73425f"
      },
      "source": [
        "# 7) Faça um programa que receba duas frases distintas e imprima de maneira invertida, trocando as letras A por *.\n",
        "\n",
        "frase1 = input(\"Digite uma frase: \")\n",
        "frase2 = input(\"Digite outra frase: \")\n",
        "\n",
        "txt = frase1.replace(\"a\", \"*\")[::-1]\n",
        "txt2 = frase2.replace(\"a\", \"*\")[::-1]\n",
        "\n",
        "print(txt)\n",
        "print(txt2)"
      ],
      "execution_count": null,
      "outputs": [
        {
          "output_type": "stream",
          "name": "stdout",
          "text": [
            "Digite uma frase: aaaaaaabbbbbbbaaaaaa\n",
            "Digite outra frase: a243raaa\n",
            "******bbbbbbb*******\n",
            "***r342*\n"
          ]
        }
      ]
    },
    {
      "cell_type": "markdown",
      "metadata": {
        "id": "p1n4ZdvRbrIv"
      },
      "source": [
        "# **Aula de IF e Else**"
      ]
    },
    {
      "cell_type": "code",
      "metadata": {
        "colab": {
          "base_uri": "https://localhost:8080/"
        },
        "id": "rVwPxA8cDQUh",
        "outputId": "b0bd651b-06cb-46e2-c793-52af16f40da4"
      },
      "source": [
        "a = 10\n",
        "b = 20\n",
        "\n",
        "if b > a :\n",
        "  print(\"é maior\")"
      ],
      "execution_count": null,
      "outputs": [
        {
          "output_type": "stream",
          "name": "stdout",
          "text": [
            "é maior\n"
          ]
        }
      ]
    },
    {
      "cell_type": "code",
      "metadata": {
        "colab": {
          "base_uri": "https://localhost:8080/"
        },
        "id": "D78Koq38cYkl",
        "outputId": "3d0406d2-fcdc-4a6e-9794-61e1abbc856c"
      },
      "source": [
        "idade = 16\n",
        "\n",
        "if idade > 18 :\n",
        "  print(\"é maior de idade\")\n",
        "else:\n",
        "  print(\"é menor!\")"
      ],
      "execution_count": null,
      "outputs": [
        {
          "output_type": "stream",
          "name": "stdout",
          "text": [
            "é menor!\n"
          ]
        }
      ]
    },
    {
      "cell_type": "code",
      "metadata": {
        "colab": {
          "base_uri": "https://localhost:8080/"
        },
        "id": "MO3Cenoyd-dP",
        "outputId": "bb66c9b5-fb71-426e-9e43-10ae5e0766b0"
      },
      "source": [
        "# 1) Faça um algoritmo que imprima na tela se um número lido é par ou ímpar.\n",
        "\n",
        "numero = int(input('Digite um número inteiro: '))\n",
        "\n",
        "if (numero % 2) == 0:\n",
        "  print(\"Par\")\n",
        "else:\n",
        "  print(\"Ímpar\")"
      ],
      "execution_count": null,
      "outputs": [
        {
          "output_type": "stream",
          "name": "stdout",
          "text": [
            "Digite um número inteiro: 0\n",
            "Par\n"
          ]
        }
      ]
    },
    {
      "cell_type": "code",
      "metadata": {
        "colab": {
          "base_uri": "https://localhost:8080/"
        },
        "id": "nqN6L7-hfHrG",
        "outputId": "74d85485-e3d3-4e2a-b96a-a2e569c1312c"
      },
      "source": [
        "# 2) Escreva um programa para ler 2 valores (considere que não serão informados valores iguais) e escrever o maior deles.\n",
        "\n",
        "valor1 = int(input(\"Digite o primeiro valor: \"))\n",
        "valor2 = int(input(\"Digite o segundo valor: \"))\n",
        "\n",
        "if valor1 == valor2:\n",
        "  print(f'O valor {valor1} é igual ao {valor2}')\n",
        "elif valor1 > valor2:\n",
        "  print(f'{valor1} é o maior valor')\n",
        "else:\n",
        "  print(f'{valor2} é o maior valor')"
      ],
      "execution_count": null,
      "outputs": [
        {
          "output_type": "stream",
          "name": "stdout",
          "text": [
            "Digite o primeiro valor: 10\n",
            "Digite o segundo valor: 7\n",
            "10 é o maior valor\n"
          ]
        }
      ]
    },
    {
      "cell_type": "code",
      "metadata": {
        "colab": {
          "base_uri": "https://localhost:8080/"
        },
        "id": "Aswv1PCvjwWA",
        "outputId": "6959de98-1194-495b-9d18-ef52627ba412"
      },
      "source": [
        "altura = float(input(\"Digite sua altura: \\n\"))\n",
        "\n",
        "if altura > 1.70:\n",
        "  print(\"Estatura alta\")\n",
        "elif altura == 1.70:\n",
        "  print(\"Estatura média\")\n",
        "else:\n",
        "  print(\"Estatura baixa\")"
      ],
      "execution_count": null,
      "outputs": [
        {
          "output_type": "stream",
          "name": "stdout",
          "text": [
            "Digite sua altura: \n",
            "2\n",
            "Estatura alta\n"
          ]
        }
      ]
    },
    {
      "cell_type": "code",
      "metadata": {
        "colab": {
          "base_uri": "https://localhost:8080/"
        },
        "id": "uUr5kJHYpe97",
        "outputId": "52d4f393-74e6-4ab1-c641-a7e4dabe1ff0"
      },
      "source": [
        "'''\n",
        "3) Um posto está vendendo combustíveis com a seguinte tabela de descontos: \n",
        "\n",
        "Álcool:\n",
        " - até 20 litros, desconto de 3% por litro \n",
        " - acima de 20 litros, desconto de 5% por litro\n",
        "Gasolina:\n",
        " - até 20 litros, desconto de 4% por litro\n",
        " - acima de 20 litros, desconto de 6% por litro\n",
        "\n",
        "Escreva um algoritmo que leia o número de litros vendidos e o tipo de combustível (codificado da\n",
        "seguinte forma: A-álcool, G-gasolina), calcule e imprima o valor a ser pago pelo cliente sabendo-se\n",
        "que o preço do litro da gasolina é R$ 6,10 e o preço do litro do álcool é R$ 5,20.\n",
        "'''\n",
        "\n",
        "'''comb = input(\"Qual combustível deseja? \")\n",
        "litros = float(input(\"Quantos litros deseja colocar? \"))\n",
        "alcool = A\n",
        "gasolina = B'''\n",
        "\n",
        "'''\n",
        "G = 6.10\n",
        "A = 5.20\n",
        "preco_litro = 0\n",
        "preco_pagar = 0\n",
        "litros = float(input('Quantos litros abasteceu: '))\n",
        "tipoComb = input('Escolha: \\n[ A ] para alcool ou [ G ] ')\n",
        "if tipoComb not in 'AaGg':\n",
        "    tipoComb = input('Digite apenas [ A ] para Alcool ou [ G ] para Gasolina: ')\n",
        "elif tipoComb in 'Aa' and litros <= 20:\n",
        "    preco_litro = A - ((A/100)*3)\n",
        "    preco_pagar = preco_litro * litros\n",
        "elif tipoComb in 'Aa' and litros > 20:\n",
        "    preco_litro = A - ((A/100)*5)\n",
        "    preco_pagar = preco_litro * litros\n",
        "elif tipoComb in 'Gg' and litros <= 20:\n",
        "    preco_litro = G - ((G/100)*4)\n",
        "    preco_pagar = preco_litro * litros\n",
        "elif tipoComb in 'Gg' and litros > 20:\n",
        "    preco_litro = G - ((G/100)*6)\n",
        "    preco_pagar = preco_litro * litros\n",
        "print(f'para: {litros}lt de {tipoComb} vc vai pagar R${preco_litro:.2f}lt | Total R${preco_pagar:.2f}')\n",
        "'''\n",
        "\n",
        "\n",
        "litros = float(input(\"Quantos litros você deseja? \"))\n",
        "tipocomb = input(\"Qual combustível deseja? A ou G \")\n",
        "\n",
        "gas = 6.10\n",
        "alc = 5.20\n",
        "\n",
        "#if tipocomb != \"A\" or \"a\" or \"G\" or \"g\":\n",
        "#  print(\"Combustível inválido\")\n",
        "\n",
        "if tipocomb == \"A\":\n",
        "  if litros <= 20:\n",
        "    print(\"O valor é\", ((alc*0.97)*litros))\n",
        "  else:\n",
        "    print(\"O valor é\", ((alc*0.95)*litros))\n",
        "else:\n",
        "  if litros <= 20:\n",
        "    print(\"O valor é\", ((gas*0.96)*litros))\n",
        "  else:\n",
        "    print(\"O valor é\", ((gas*0.94)*litros))"
      ],
      "execution_count": null,
      "outputs": [
        {
          "output_type": "stream",
          "name": "stdout",
          "text": [
            "Quantos litros você deseja? 10\n",
            "Qual combustível deseja? A ou G C\n",
            "Combustível inválido\n",
            "O valor é 58.56\n"
          ]
        }
      ]
    },
    {
      "cell_type": "code",
      "metadata": {
        "colab": {
          "base_uri": "https://localhost:8080/"
        },
        "id": "NLOSZZ0VqgwL",
        "outputId": "e6d91f1d-dd35-4117-d829-b46d9759790b"
      },
      "source": [
        "'''\n",
        "4) Faça um algoritmo para ler um número que é um código de usuário. Caso este código seja diferente de um código armazenado internamente no algoritmo (igual a 1234)\n",
        "deve ser apresentada a mensagem ‘Usuário inválido!’. Caso o Código seja correto, deve ser lido outro valor que é a senha. Se esta senha estiver incorreta (a certa é 9999)\n",
        "deve ser mostrada a mensagem ‘senha incorreta’. Caso a senha esteja correta, deve ser mostrada a mensagem ‘Acesso permitido’.\n",
        "'''\n",
        "\n",
        "'''cod = int(input(\"Digite o código de usuário: \"))\n",
        "usuario = 1234\n",
        "\n",
        "if cod != usuario:\n",
        "  print(\"Usuário inválido!\")\n",
        "elif cod != 9999:\n",
        "  print(\"Senha incorreta!\")\n",
        "else:\n",
        "  print(\"Acesso permitido!\")'''\n",
        "\n",
        "'''\n",
        "cod1 = int(input(\"Digite um código: \"))\n",
        "cod2 = 1234\n",
        "senha2 = 9999\n",
        "\n",
        "if cod1 == cod2:\n",
        "  senha1 = int(input(\"Digite sua senha: \"))\n",
        "  if senha1 == senha2:\n",
        "    print(f'Acesso permitido!')\n",
        "  else:\n",
        "    print(f'Senha incorreta!')\n",
        "else:\n",
        "  print(\"Usuário inválido!\")\n",
        "'''\n",
        "\n",
        "\n",
        "usuario = int(input(\"didite seu código: \"))\n",
        "\n",
        "usrcontrol = 1234\n",
        "senhacontrol = 9999\n",
        "\n",
        "if usuario != usrcontrol:\n",
        "  print(\"Usuário inválido!\")\n",
        "\n",
        "elif usuario == usrcontrol:\n",
        "  print(\"Usuário Válido!\")\n",
        "  senhausr = int(input(\"Digite a senha: \"))\n",
        "  if senhausr != senhacontrol:\n",
        "    print(\"Senha inválida!\")\n",
        "  else:\n",
        "    print(\"Acesso permitido!\")"
      ],
      "execution_count": null,
      "outputs": [
        {
          "output_type": "stream",
          "name": "stdout",
          "text": [
            "didite seu código: 1234\n",
            "Usuário Válido!\n",
            "Digite a senha: 5\n",
            "Senha inválida!\n"
          ]
        }
      ]
    },
    {
      "cell_type": "markdown",
      "metadata": {
        "id": "M5hnJb7SPcWw"
      },
      "source": [
        "# **Aula de Estrutura de Repetição**"
      ]
    },
    {
      "cell_type": "code",
      "metadata": {
        "colab": {
          "base_uri": "https://localhost:8080/"
        },
        "id": "onbXB619PhGV",
        "outputId": "8ba14b44-378a-4fdc-cb4c-72c2dfe12601"
      },
      "source": [
        "n = 1\n",
        "\n",
        "while n <= 10:\n",
        "  print(n, \" \")\n",
        "  n += 1"
      ],
      "execution_count": null,
      "outputs": [
        {
          "output_type": "stream",
          "name": "stdout",
          "text": [
            "1  \n",
            "2  \n",
            "3  \n",
            "4  \n",
            "5  \n",
            "6  \n",
            "7  \n",
            "8  \n",
            "9  \n",
            "10  \n"
          ]
        }
      ]
    },
    {
      "cell_type": "code",
      "metadata": {
        "colab": {
          "base_uri": "https://localhost:8080/"
        },
        "id": "IFs6HypLTZ3P",
        "outputId": "a2356cc5-86fd-40a5-dc97-c570a02a5f73"
      },
      "source": [
        "# Calcule quantos números pares existem entre 50 e 200 orintando somente o valor final da quantidade de números pares\n",
        "\n",
        "# (numero % 2) == 0 para saber se é par ou impar\n",
        "\n",
        "cont = 0\n",
        "num = 50\n",
        "\n",
        "while num <= 220:\n",
        "  if(num % 2 == 0):\n",
        "    cont += 1\n",
        "  num +=1\n",
        "\n",
        "print(f'Existem {cont} números pares entre 50 e 200.')"
      ],
      "execution_count": null,
      "outputs": [
        {
          "output_type": "stream",
          "name": "stdout",
          "text": [
            "Existem 86 números pares entre 50 e 200.\n"
          ]
        }
      ]
    },
    {
      "cell_type": "code",
      "metadata": {
        "colab": {
          "base_uri": "https://localhost:8080/"
        },
        "id": "KKb5R2G9UVqC",
        "outputId": "d9212bf7-c800-4e3d-d9ee-c31f60936f79"
      },
      "source": [
        "#Ler um número de 3 dígitos\n",
        "\n",
        "numero = int(input(\"Digite um número com 3 dígitos: \"))\n",
        "\n",
        "while numero < 100 or numero > 999:\n",
        "  numero = int(input(\"O número não possui 3 dígitos.\\n Digite um número novamente: \"))\n"
      ],
      "execution_count": null,
      "outputs": [
        {
          "name": "stdout",
          "output_type": "stream",
          "text": [
            "Digite um número com 3 dígitos: 850\n"
          ]
        }
      ]
    },
    {
      "cell_type": "code",
      "metadata": {
        "colab": {
          "base_uri": "https://localhost:8080/"
        },
        "id": "LH1fytRXqpDF",
        "outputId": "b6c05e8e-784e-4c95-c230-198174c2e696"
      },
      "source": [
        "#Lei um número natural diferente de 0\n",
        "\n",
        "numero1 = int(input(\"Digite um número maior que 0: \"))\n",
        "\n",
        "while numero1 < 1:\n",
        "  numero1 = int(input(\"Digite um número maior que 0: \"))"
      ],
      "execution_count": null,
      "outputs": [
        {
          "name": "stdout",
          "output_type": "stream",
          "text": [
            "Digite um número maior que 0: -8\n",
            "Digite um número maior que 0: 0\n",
            "Digite um número maior que 0: 12\n"
          ]
        }
      ]
    },
    {
      "cell_type": "code",
      "metadata": {
        "colab": {
          "base_uri": "https://localhost:8080/"
        },
        "id": "q2awPPiXv3ff",
        "outputId": "030aa762-9085-4e97-c790-54aab6724da3"
      },
      "source": [
        "# Escrever na tela os números de 1 a 100 - Variável para fazer a contagem\n",
        "\n",
        "i = 1\n",
        "while i <= 10:\n",
        "  print(i)\n",
        "  i += 1"
      ],
      "execution_count": null,
      "outputs": [
        {
          "output_type": "stream",
          "name": "stdout",
          "text": [
            "1\n",
            "2\n",
            "3\n",
            "4\n",
            "5\n",
            "6\n",
            "7\n",
            "8\n",
            "9\n",
            "10\n"
          ]
        }
      ]
    },
    {
      "cell_type": "code",
      "metadata": {
        "colab": {
          "base_uri": "https://localhost:8080/"
        },
        "id": "tHVpnUuwuAp1",
        "outputId": "35a81936-8902-478a-f836-d472feb20887"
      },
      "source": [
        "# Faça um algoritmo que leia 10 número entre 100 e 500 e mostre na tela o maior e o menor número lido.\n",
        "\n",
        "cont = 1\n",
        "\n",
        "while cont <= 10: # aqui irá levar os 10 números\n",
        "  numero = int(input(\"Digite um número entre 100 e 500: \"))\n",
        "  while numero < 100 or numero > 500:\n",
        "    numero = int(input(\"Esse número não é válido digite novamente um número entre 100 e 500: \"))\n",
        "  if cont == 1:\n",
        "    menor = numero\n",
        "    maior = numero\n",
        "  else:\n",
        "    if numero > maior:\n",
        "      maior = numero\n",
        "    if numero < menor:\n",
        "      menor = numero\n",
        "  cont += 1\n",
        "\n",
        "print(f'O maior número lido foi {maior}')\n",
        "print(f'O menor número lido foi {menor}')"
      ],
      "execution_count": null,
      "outputs": [
        {
          "output_type": "stream",
          "name": "stdout",
          "text": [
            "Digite um número entre 100 e 500: 499\n",
            "Digite um número entre 100 e 500: 101\n",
            "Digite um número entre 100 e 500: 220\n",
            "Digite um número entre 100 e 500: 9\n",
            "Digite um número entre 100 e 500: 1\n",
            "Digite um número entre 100 e 500: 5\n",
            "Digite um número entre 100 e 500: 555\n",
            "Digite um número entre 100 e 500: 333\n",
            "Digite um número entre 100 e 500: 434\n",
            "Digite um número entre 100 e 500: 258\n",
            "Digite um número entre 100 e 500: 300\n",
            "Digite um número entre 100 e 500: 232\n",
            "Digite um número entre 100 e 500: 110\n",
            "Digite um número entre 100 e 500: 157\n",
            "O maior número lido foi 499\n",
            "O menor número lido foi 101\n"
          ]
        }
      ]
    },
    {
      "cell_type": "code",
      "metadata": {
        "colab": {
          "base_uri": "https://localhost:8080/"
        },
        "id": "dAQqSdUn3aUb",
        "outputId": "6a15e4a2-a518-4f14-e25f-51c2167a8181"
      },
      "source": [
        "# Faça um programa que apresente na tela os 10 primeiros números negativos, em ordem inversa.\n",
        "\n",
        "cont = -10\n",
        "\n",
        "while cont < 0:\n",
        "  print(cont)\n",
        "  cont += 1"
      ],
      "execution_count": null,
      "outputs": [
        {
          "output_type": "stream",
          "name": "stdout",
          "text": [
            "-10\n",
            "-9\n",
            "-8\n",
            "-7\n",
            "-6\n",
            "-5\n",
            "-4\n",
            "-3\n",
            "-2\n",
            "-1\n"
          ]
        }
      ]
    },
    {
      "cell_type": "code",
      "metadata": {
        "colab": {
          "base_uri": "https://localhost:8080/"
        },
        "id": "fHwGkluICOLZ",
        "outputId": "84d833e9-adbf-45e1-c433-7e0550f54737"
      },
      "source": [
        "'''Desafio 028\n",
        "\n",
        "Escreva um programa que faça o computador \"pensar\" em um número inteiro entre 0 e 5 e peça para o usuário tentar\n",
        "descobrir qual foi o número escolhido pelo computador.\n",
        "\n",
        "O programa deverá escrever na tela se o usuário venceu ou perdeu.\n",
        "'''\n",
        "\n",
        "from random import choice\n",
        "\n",
        "numInteiro = int(input('Bom eu já pensei em um número de 0 a 5, consegue adivinhar qual é? '))\n",
        "\n",
        "lista = [0, 1, 2, 3, 4, 5]\n",
        "pc = choice(lista)\n",
        "\n",
        "if numInteiro == pc:\n",
        "    print('Acertou miserável!')\n",
        "else:\n",
        "    print('Vixi, não foi dessa vez!')\n",
        "\n",
        "print(f'O número que eu escolhi foi {pc};')"
      ],
      "execution_count": null,
      "outputs": [
        {
          "output_type": "stream",
          "name": "stdout",
          "text": [
            "Bom eu já pensei em um número de 0 a 5, consegue adivinhar qual é? 5\n",
            "Acertou miserável!\n",
            "O número que eu escolhi foi 5;\n"
          ]
        }
      ]
    },
    {
      "cell_type": "code",
      "metadata": {
        "colab": {
          "base_uri": "https://localhost:8080/"
        },
        "id": "6Vi4n3Cvm0jl",
        "outputId": "c226f834-a3f5-499a-95ce-269a716a803c"
      },
      "source": [
        "from random import choices\n",
        "\n",
        "qtd = 10\n",
        "tamanho = 1\n",
        "valores = range(1, 11)\n",
        "\n",
        "listas = [ choices(valores, k=tamanho) for _ in range(qtd) ]\n",
        "print(listas)"
      ],
      "execution_count": null,
      "outputs": [
        {
          "output_type": "stream",
          "name": "stdout",
          "text": [
            "[[2], [10], [1], [9], [6], [1], [6], [7], [2], [9]]\n"
          ]
        }
      ]
    },
    {
      "cell_type": "code",
      "metadata": {
        "colab": {
          "base_uri": "https://localhost:8080/"
        },
        "id": "F0er_OvJ4Xed",
        "outputId": "2b7f66ca-83cc-47c1-b2c5-22a0a0a39bb3"
      },
      "source": [
        "'''Faça um algoritmo que obrigue o usuário a digitar um número negativo\n",
        "\n",
        "Mostre o número negativo na tela\n",
        "'''\n",
        "\n",
        "num = int(input(\"Digite um número negativo: \"))\n",
        "\n",
        "while num >= 0:\n",
        "  num = int(input(\"Número inválido! Digite um número negativo: \"))\n",
        "\n",
        "print(f'{num} É um valor válido!')"
      ],
      "execution_count": null,
      "outputs": [
        {
          "output_type": "stream",
          "name": "stdout",
          "text": [
            "Digite um número negativo: 5\n",
            "Número inválido! Digite um número negativo: -10\n",
            "-10 É um valor válido!\n"
          ]
        }
      ]
    },
    {
      "cell_type": "code",
      "metadata": {
        "colab": {
          "base_uri": "https://localhost:8080/"
        },
        "id": "LGw2qYVejeIA",
        "outputId": "f71ded2f-a77b-4afc-f8c3-99eaf298b9c7"
      },
      "source": [
        "'''Faça um algoritmo que obrigue o usuário a digitar 10 números negativos\n",
        "\n",
        "Mostre os números negativos na tela\n",
        "'''\n",
        "\n",
        "cont = 0\n",
        "\n",
        "while cont <= 10:\n",
        "  num = int(input(\"Digite um número negativo: \"))\n",
        "#Aqui eu faço a validação do número que deve ser negativo\n",
        "  while num >= 0:\n",
        "    num = int(input(\"Número inválido! Digite um número negativo: \"))\n",
        "\n",
        "  print(num)\n",
        "\n",
        "  cont += 1\n"
      ],
      "execution_count": null,
      "outputs": [
        {
          "output_type": "stream",
          "name": "stdout",
          "text": [
            "Digite um número negativo: 10\n",
            "Número inválido! Digite um número negativo: -1\n",
            "-1\n",
            "Digite um número negativo: -6\n",
            "-6\n",
            "Digite um número negativo: -8\n",
            "-8\n",
            "Digite um número negativo: -12\n",
            "-12\n",
            "Digite um número negativo: -55\n",
            "-55\n",
            "Digite um número negativo: -87\n",
            "-87\n",
            "Digite um número negativo: -98\n",
            "-98\n",
            "Digite um número negativo: -9\n",
            "-9\n",
            "Digite um número negativo: -3\n",
            "-3\n",
            "Digite um número negativo: -14\n",
            "-14\n",
            "Digite um número negativo: -99\n",
            "-99\n"
          ]
        }
      ]
    },
    {
      "cell_type": "markdown",
      "metadata": {
        "id": "QMITVP8NoGyC"
      },
      "source": [
        "# **Exercícios**"
      ]
    },
    {
      "cell_type": "code",
      "metadata": {
        "colab": {
          "base_uri": "https://localhost:8080/"
        },
        "id": "gCqXKtAhoFec",
        "outputId": "49b3c5d0-a9f9-43bd-b1c9-e41783c69d0a"
      },
      "source": [
        "#1) Escrever um programa para exibir os números de 1 até 50 na tela.\n",
        "\n",
        "cont = 1\n",
        "\n",
        "while cont <= 50:\n",
        "  print(cont, end = ' ')\n",
        "  cont += 1"
      ],
      "execution_count": null,
      "outputs": [
        {
          "output_type": "stream",
          "name": "stdout",
          "text": [
            "1 2 3 4 5 6 7 8 9 10 11 12 13 14 15 16 17 18 19 20 21 22 23 24 25 26 27 28 29 30 31 32 33 34 35 36 37 38 39 40 41 42 43 44 45 46 47 48 49 50 "
          ]
        }
      ]
    },
    {
      "cell_type": "code",
      "metadata": {
        "colab": {
          "base_uri": "https://localhost:8080/"
        },
        "id": "1JGixnarALQk",
        "outputId": "e3428973-38eb-4db4-f7ef-5156244d79cf"
      },
      "source": [
        "#1) Escrever um programa para exibir os números de 1 até 50 na tela. Usando a função FOR\n",
        "\n",
        "for numeros in range(1,51):\n",
        "  print(numeros, end = ' ')"
      ],
      "execution_count": null,
      "outputs": [
        {
          "output_type": "stream",
          "name": "stdout",
          "text": [
            "1 2 3 4 5 6 7 8 9 10 11 12 13 14 15 16 17 18 19 20 21 22 23 24 25 26 27 28 29 30 31 32 33 34 35 36 37 38 39 40 41 42 43 44 45 46 47 48 49 50 "
          ]
        }
      ]
    },
    {
      "cell_type": "code",
      "metadata": {
        "colab": {
          "base_uri": "https://localhost:8080/"
        },
        "id": "4RzUO1JLoL3p",
        "outputId": "4fcd9251-17d0-45ef-a7f4-0e6b21d46981"
      },
      "source": [
        "#2) Escrever um programa para exibir os números de 25 a 85 na tela.\n",
        "\n",
        "cont = 25\n",
        "\n",
        "while cont <= 85:\n",
        "  print(cont, end = ' ')\n",
        "  cont += 1"
      ],
      "execution_count": null,
      "outputs": [
        {
          "output_type": "stream",
          "name": "stdout",
          "text": [
            "25 26 27 28 29 30 31 32 33 34 35 36 37 38 39 40 41 42 43 44 45 46 47 48 49 50 51 52 53 54 55 56 57 58 59 60 61 62 63 64 65 66 67 68 69 70 71 72 73 74 75 76 77 78 79 80 81 82 83 84 85 "
          ]
        }
      ]
    },
    {
      "cell_type": "code",
      "metadata": {
        "colab": {
          "base_uri": "https://localhost:8080/"
        },
        "id": "4hTBtepaAasI",
        "outputId": "0a4c017b-f0e6-4b26-f165-0373ceed0bec"
      },
      "source": [
        "#2) Escrever um programa para exibir os números de 25 a 85 na tela. Usando a função FOR\n",
        "\n",
        "for numeros in range(25,86):\n",
        "  print(numeros, end = ' ')"
      ],
      "execution_count": null,
      "outputs": [
        {
          "output_type": "stream",
          "name": "stdout",
          "text": [
            "25 26 27 28 29 30 31 32 33 34 35 36 37 38 39 40 41 42 43 44 45 46 47 48 49 50 51 52 53 54 55 56 57 58 59 60 61 62 63 64 65 66 67 68 69 70 71 72 73 74 75 76 77 78 79 80 81 82 83 84 85 "
          ]
        }
      ]
    },
    {
      "cell_type": "code",
      "metadata": {
        "colab": {
          "base_uri": "https://localhost:8080/"
        },
        "id": "q7u5NLbboNoZ",
        "outputId": "42b04016-5759-4493-9c81-94fb316e3284"
      },
      "source": [
        "#3) Escrever um programa para exibir os números de 1 a 100 em ordem inversa.\n",
        "\n",
        "cont = 100\n",
        "\n",
        "while cont >= 1:\n",
        "  print(cont, end = ' ')\n",
        "  cont -= 1"
      ],
      "execution_count": null,
      "outputs": [
        {
          "output_type": "stream",
          "name": "stdout",
          "text": [
            "100 99 98 97 96 95 94 93 92 91 90 89 88 87 86 85 84 83 82 81 80 79 78 77 76 75 74 73 72 71 70 69 68 67 66 65 64 63 62 61 60 59 58 57 56 55 54 53 52 51 50 49 48 47 46 45 44 43 42 41 40 39 38 37 36 35 34 33 32 31 30 29 28 27 26 25 24 23 22 21 20 19 18 17 16 15 14 13 12 11 10 9 8 7 6 5 4 3 2 1 "
          ]
        }
      ]
    },
    {
      "cell_type": "code",
      "metadata": {
        "colab": {
          "base_uri": "https://localhost:8080/"
        },
        "id": "ww_7YuA4ArP8",
        "outputId": "c97d9f56-75e5-4c7e-e555-111e7c407d4d"
      },
      "source": [
        "#3) Escrever um programa para exibir os números de 1 a 100 em ordem inversa. Usando a função FOR\n",
        "\n",
        "for numeros in range(100,0,-1):\n",
        "  print(numeros, end = ' ')"
      ],
      "execution_count": null,
      "outputs": [
        {
          "output_type": "stream",
          "name": "stdout",
          "text": [
            "100 99 98 97 96 95 94 93 92 91 90 89 88 87 86 85 84 83 82 81 80 79 78 77 76 75 74 73 72 71 70 69 68 67 66 65 64 63 62 61 60 59 58 57 56 55 54 53 52 51 50 49 48 47 46 45 44 43 42 41 40 39 38 37 36 35 34 33 32 31 30 29 28 27 26 25 24 23 22 21 20 19 18 17 16 15 14 13 12 11 10 9 8 7 6 5 4 3 2 1 "
          ]
        }
      ]
    },
    {
      "cell_type": "code",
      "metadata": {
        "colab": {
          "base_uri": "https://localhost:8080/"
        },
        "id": "rpL7EfQLoPGl",
        "outputId": "3f97cc3e-0afe-4dc5-cf08-267555b655b5"
      },
      "source": [
        "#4) Fazer um programa para encontrar todos os números pares entre 1 e 100.\n",
        "\n",
        "cont = 2\n",
        "\n",
        "while cont <= 100:\n",
        "  print(cont, end = ' ')\n",
        "  cont += 2\n",
        "\n",
        "# Resolução do professor\n",
        "# cont = 1\n",
        "# while cont <= 100:\n",
        "#   if (cont % 2 == 0):\n",
        "#     print(cont)\n",
        "#   cont += 1x\n"
      ],
      "execution_count": null,
      "outputs": [
        {
          "output_type": "stream",
          "name": "stdout",
          "text": [
            "2 4 6 8 10 12 14 16 18 20 22 24 26 28 30 32 34 36 38 40 42 44 46 48 50 52 54 56 58 60 62 64 66 68 70 72 74 76 78 80 82 84 86 88 90 92 94 96 98 100 "
          ]
        }
      ]
    },
    {
      "cell_type": "code",
      "metadata": {
        "colab": {
          "base_uri": "https://localhost:8080/"
        },
        "id": "XcnJ8VRhBWQ4",
        "outputId": "129a8d79-6f44-4679-8dd0-8aa714d14d71"
      },
      "source": [
        "#4) Fazer um programa para encontrar todos os números pares entre 1 e 100. Usando a função FOR\n",
        "\n",
        "for numeros in range(1, 101):\n",
        "  if numeros % 2 == 0:\n",
        "    print(numeros, end = ' ')"
      ],
      "execution_count": null,
      "outputs": [
        {
          "output_type": "stream",
          "name": "stdout",
          "text": [
            "2 4 6 8 10 12 14 16 18 20 22 24 26 28 30 32 34 36 38 40 42 44 46 48 50 52 54 56 58 60 62 64 66 68 70 72 74 76 78 80 82 84 86 88 90 92 94 96 98 100 "
          ]
        }
      ]
    },
    {
      "cell_type": "code",
      "metadata": {
        "colab": {
          "base_uri": "https://localhost:8080/",
          "height": 35
        },
        "id": "_RCTD_QroQkI",
        "outputId": "7902fe90-eb53-4ca4-e31e-8d46e2d12901"
      },
      "source": [
        "#5) Fazer um programa para encontrar todos os múltiplos de 3 de 1 a 50.\n",
        "\n",
        "cont = 3\n",
        "\n",
        "while cont <= 50:\n",
        "  print(cont, end = ' ')\n",
        "  cont += 3\n",
        "\n",
        "'''cont = 1\n",
        "while cont <=50:\n",
        "  if(cont%3==0):\n",
        "    print(cont)\n",
        "  cont += 1'''"
      ],
      "execution_count": null,
      "outputs": [
        {
          "output_type": "stream",
          "name": "stdout",
          "text": [
            "3 6 9 12 15 18 21 24 27 30 33 36 39 42 45 48 "
          ]
        },
        {
          "output_type": "execute_result",
          "data": {
            "application/vnd.google.colaboratory.intrinsic+json": {
              "type": "string"
            },
            "text/plain": [
              "'cont = 1\\nwhile cont <=50:\\n  if(cont%3==0):\\n    print(cont)\\n  cont += 1'"
            ]
          },
          "metadata": {},
          "execution_count": 31
        }
      ]
    },
    {
      "cell_type": "code",
      "metadata": {
        "colab": {
          "base_uri": "https://localhost:8080/"
        },
        "id": "yivF5uBsoR_0",
        "outputId": "8259e795-31b0-4bdd-f3e7-74ab6d40c872"
      },
      "source": [
        "#6) Ler um valor inteiro (aceitar somente valores entre 1 e 10) e escrever a tabuada de 1 a 10 do valor lido.\n",
        "\n",
        "# primeiro passo é ler um valor que deve estar entre 1 e 10\n",
        "valor = int(input('Digite um número entre 1 e 10: '))\n",
        "\n",
        "while valor < 1 or valor > 10:\n",
        "  valor = int(input('Esse valor não é válido! Digite um número entre 1 e 10: '))\n",
        "\n",
        "#fazer o cálculo da tabuada do valor lido\n",
        "cont = 1\n",
        "while cont <= 10:\n",
        "  print(f'{valor} X {cont} = ', valor * cont)\n",
        "  cont += 1"
      ],
      "execution_count": null,
      "outputs": [
        {
          "output_type": "stream",
          "name": "stdout",
          "text": [
            "Digite um número entre 1 e 10: 5\n",
            "5 X 1 =  5\n",
            "5 X 2 =  10\n",
            "5 X 3 =  15\n",
            "5 X 4 =  20\n",
            "5 X 5 =  25\n",
            "5 X 6 =  30\n",
            "5 X 7 =  35\n",
            "5 X 8 =  40\n",
            "5 X 9 =  45\n",
            "5 X 10 =  50\n"
          ]
        }
      ]
    },
    {
      "cell_type": "code",
      "metadata": {
        "colab": {
          "base_uri": "https://localhost:8080/"
        },
        "id": "nEUbA1vuoTou",
        "outputId": "3fafc173-8ed5-450d-e3e2-8cbc0a55313f"
      },
      "source": [
        "#7) Faça um programa que leia 5 idades e mostre na tela a média das idades lidas.\n",
        "\n",
        "'''\n",
        "cont = 1 e vai até 5\n",
        "ler uma idade válida (idade tem que ser maior que 0 e menor que 120)\n",
        "soma das idade / 5\n",
        "cont = 1\n",
        "cont += 10\n",
        "\n",
        "soma = 0\n",
        "soma_idade += idade\n",
        "media = soma_idade / 5\n",
        "'''\n",
        "\n",
        "cont = 1\n",
        "soma_idade = 0\n",
        "\n",
        "while cont <= 5:\n",
        "  idade = int(input('Digite uma idade: '))\n",
        "\n",
        "  #Aqui é uma validação de idade - só permite idades entre 0 e 120 anos.\n",
        "  while idade <= 0 or idade > 120:\n",
        "    idade = int(input('Idade inváida! Digite uma idade entre 1 e 120: '))\n",
        "\n",
        "  soma_idade += idade\n",
        "  cont += 1\n",
        "\n",
        "media = soma_idade / 5\n",
        "print(f'A média de todas as idades digitadas é {media}')"
      ],
      "execution_count": null,
      "outputs": [
        {
          "output_type": "stream",
          "name": "stdout",
          "text": [
            "Digite uma idade: -8\n",
            "Idade inváida! Digite uma idade entre 1 e 120: 150\n",
            "Idade inváida! Digite uma idade entre 1 e 120: 12\n",
            "Digite uma idade: 12\n",
            "Digite uma idade: 12\n",
            "Digite uma idade: 12\n",
            "Digite uma idade: 12\n",
            "A média de todas as idades digitadas é 12.0\n"
          ]
        }
      ]
    },
    {
      "cell_type": "code",
      "metadata": {
        "colab": {
          "base_uri": "https://localhost:8080/"
        },
        "id": "pfKlLbFaoU6-",
        "outputId": "c09164b3-e953-4ddb-d6d3-0c22a73da96f"
      },
      "source": [
        "#8) Ler 10 números e informar na tela quantos números pares foram digitados e quantos números ímpares foram digitados.\n",
        "\n",
        "'''\n",
        "somaPar = 0, 1, 2\n",
        "\n",
        "somaImpar = 0, 1, 2\n",
        "'''\n",
        "\n",
        "somaPar = 0\n",
        "somaImpar = 0\n",
        "cont = 1\n",
        "\n",
        "while cont <= 10:\n",
        "  numero = int(input('Digite um número: '))\n",
        "  \n",
        "  if numero % 2 == 0:\n",
        "    somaPar += 1\n",
        "  else:\n",
        "    somaImpar += 1\n",
        "  cont += 1\n",
        "\n",
        "print(f'A quantidade de números pares lidos foi {somaPar}')\n",
        "print(f'A quantidade de números impares lidos foi {somaImpar}')"
      ],
      "execution_count": null,
      "outputs": [
        {
          "output_type": "stream",
          "name": "stdout",
          "text": [
            "Digite um número: 2\n",
            "Digite um número: 8\n",
            "Digite um número: 46\n",
            "Digite um número: 55\n",
            "Digite um número: 19\n",
            "Digite um número: 99\n",
            "Digite um número: 35\n",
            "Digite um número: 6\n",
            "Digite um número: 8\n",
            "Digite um número: 47\n",
            "A quantidade de números pares lidos foi 5\n",
            "A quantidade de números pares lidos foi 5\n"
          ]
        }
      ]
    },
    {
      "cell_type": "code",
      "metadata": {
        "id": "_-b5Ke7aoWfn",
        "colab": {
          "base_uri": "https://localhost:8080/"
        },
        "outputId": "2432720f-57f4-4363-b078-f4deede78ac0"
      },
      "source": [
        "#9) Faça um programa que leia 3 notas (de 0 a 10) e informe na tela a média das notas lidas.\n",
        "\n",
        "cont = 1\n",
        "soma_notas = 0\n",
        "\n",
        "while cont <= 3:\n",
        "  notas = float(input('Digite o valor da nota entre 0 e 10: '))\n",
        "\n",
        "  while notas <= 0 or notas > 10:\n",
        "    notas = float(input('Valor inválido! Digite o valor da nota novamente entre 0 e 10: '))\n",
        "\n",
        "  soma_notas += notas\n",
        "  cont += 1\n",
        "\n",
        "media = soma_notas / 3\n",
        "print(f'A média das 3 notas é {media:.1f}')"
      ],
      "execution_count": null,
      "outputs": [
        {
          "output_type": "stream",
          "name": "stdout",
          "text": [
            "Digite o valor da nota entre 0 e 10: 9\n",
            "Digite o valor da nota entre 0 e 10: 10\n",
            "Digite o valor da nota entre 0 e 10: 10\n",
            "A média das 3 notas é 9.7\n"
          ]
        }
      ]
    },
    {
      "cell_type": "code",
      "metadata": {
        "id": "QsvyAqx_oYEI",
        "colab": {
          "base_uri": "https://localhost:8080/"
        },
        "outputId": "9bf427f6-e184-4ca0-c544-b7379a8497c7"
      },
      "source": [
        "'''10) Foi feita uma pesquisa entre os habitantes de uma região. Foram coletados os dados de idade, sexo (M/F) e salário. Faça um programa que calcule e mostre:\n",
        "\n",
        "a) A média dos salários do grupo;\n",
        "b) A maior e a menor idade do grupo;\n",
        "c) A quantidade de mulheres na região;\n",
        "d) A idade e o sexo da pessoa que possui o menor salário;\n",
        "\n",
        "Finalize a entrada de dados ao ser digitada uma idade negativa.'''\n",
        "\n",
        "salarios = 0\n",
        "maior_idade = 0\n",
        "menor_idade = 0\n",
        "mulheres = 0\n",
        "\n",
        "idade = int(input('Qual é a sua idade? '))\n",
        "\n",
        "while idade <= 0:\n",
        "  print('Fim do Programa!')\n",
        "  break\n"
      ],
      "execution_count": null,
      "outputs": [
        {
          "name": "stdout",
          "output_type": "stream",
          "text": [
            "Qual é a sua idade? 20\n"
          ]
        }
      ]
    },
    {
      "cell_type": "markdown",
      "metadata": {
        "id": "LHLyjUJS3AWK"
      },
      "source": [
        "# **Laço de Repetição - FOR**"
      ]
    },
    {
      "cell_type": "code",
      "metadata": {
        "colab": {
          "base_uri": "https://localhost:8080/"
        },
        "id": "HxxSRlklWkCu",
        "outputId": "90756385-8fbf-4432-e309-131d3595b4c2"
      },
      "source": [
        "# for contador in range(inicializo o contado, condição de parada - vai até um número antes do informado, incremento ou decremento - passo)\n",
        "\n",
        "for contador in range(1, 51, 1):\n",
        "  print(contador, end = ' ')"
      ],
      "execution_count": null,
      "outputs": [
        {
          "output_type": "stream",
          "name": "stdout",
          "text": [
            "1 2 3 4 5 6 7 8 9 10 11 12 13 14 15 16 17 18 19 20 21 22 23 24 25 26 27 28 29 30 31 32 33 34 35 36 37 38 39 40 41 42 43 44 45 46 47 48 49 50 "
          ]
        }
      ]
    },
    {
      "cell_type": "code",
      "metadata": {
        "colab": {
          "base_uri": "https://localhost:8080/"
        },
        "id": "rPf37EJv29vZ",
        "outputId": "47f1fefc-2137-4d52-f084-f97fb1bb76fe"
      },
      "source": [
        "# FOR usando RANGE\n",
        "# Mostrar na tela os números de 0 a 10\n",
        "\n",
        "for cont in range(11):\n",
        "  print(cont)"
      ],
      "execution_count": null,
      "outputs": [
        {
          "output_type": "stream",
          "name": "stdout",
          "text": [
            "0\n",
            "1\n",
            "2\n",
            "3\n",
            "4\n",
            "5\n",
            "6\n",
            "7\n",
            "8\n",
            "9\n",
            "10\n"
          ]
        }
      ]
    },
    {
      "cell_type": "code",
      "metadata": {
        "colab": {
          "base_uri": "https://localhost:8080/"
        },
        "id": "aovdklMv4wlp",
        "outputId": "fb730879-4958-4d3f-be7b-f7784924477d"
      },
      "source": [
        "'''cont = \n",
        "while cont < 11:\n",
        "  print(cont)\n",
        "  cont += 1'''\n",
        "\n",
        "#A mesma função usando o comando FOR\n",
        "\n",
        "for cont in range(0, 11, 1): # 0 é parametro de inico, 11 é o parametro de parada e o 1 é o contador ou seja passo de 1 em 1\n",
        "  print(cont)"
      ],
      "execution_count": null,
      "outputs": [
        {
          "output_type": "stream",
          "name": "stdout",
          "text": [
            "0\n",
            "1\n",
            "2\n",
            "3\n",
            "4\n",
            "5\n",
            "6\n",
            "7\n",
            "8\n",
            "9\n",
            "10\n"
          ]
        }
      ]
    },
    {
      "cell_type": "code",
      "metadata": {
        "colab": {
          "base_uri": "https://localhost:8080/"
        },
        "id": "CXZkjijA6LF2",
        "outputId": "e02cf423-b814-45bf-9602-2c4c8f8b661f"
      },
      "source": [
        "for cont in range(10,0,-1):\n",
        "  print(cont)"
      ],
      "execution_count": null,
      "outputs": [
        {
          "output_type": "stream",
          "name": "stdout",
          "text": [
            "10\n",
            "9\n",
            "8\n",
            "7\n",
            "6\n",
            "5\n",
            "4\n",
            "3\n",
            "2\n",
            "1\n"
          ]
        }
      ]
    },
    {
      "cell_type": "code",
      "metadata": {
        "colab": {
          "base_uri": "https://localhost:8080/"
        },
        "id": "1GCGdI1t736U",
        "outputId": "1f82f5c2-76d8-4007-d6d3-21fb7107a4f3"
      },
      "source": [
        "# Escrever um algoritmo que gera e escreve os números ímpares entre 100 e 200\n",
        "\n",
        "for cont in range(100, 201):\n",
        "  if cont % 2 == 1:\n",
        "    print(cont, end = ' ')"
      ],
      "execution_count": null,
      "outputs": [
        {
          "output_type": "stream",
          "name": "stdout",
          "text": [
            "101 103 105 107 109 111 113 115 117 119 121 123 125 127 129 131 133 135 137 139 141 143 145 147 149 151 153 155 157 159 161 163 165 167 169 171 173 175 177 179 181 183 185 187 189 191 193 195 197 199 "
          ]
        }
      ]
    },
    {
      "cell_type": "code",
      "metadata": {
        "colab": {
          "base_uri": "https://localhost:8080/"
        },
        "id": "bdGjBAZW9jIa",
        "outputId": "b4974fd5-8c62-45b1-c2e5-4c60a5fa8799"
      },
      "source": [
        "# Faça um algoritmo que imprima na tela uma sequência de N números pares.\n",
        "\n",
        "n = int(input(\"Digite um número: \"))\n",
        "for cont in range(0, (n*2) + 1, 2):\n",
        "  print(cont)"
      ],
      "execution_count": null,
      "outputs": [
        {
          "output_type": "stream",
          "name": "stdout",
          "text": [
            "Digite um número: 10\n",
            "0\n",
            "2\n",
            "4\n",
            "6\n",
            "8\n",
            "10\n",
            "12\n",
            "14\n",
            "16\n",
            "18\n",
            "20\n"
          ]
        }
      ]
    },
    {
      "cell_type": "markdown",
      "metadata": {
        "id": "9YYPgrPG8sJl"
      },
      "source": [
        "# **Aula de lista**"
      ]
    },
    {
      "cell_type": "code",
      "metadata": {
        "colab": {
          "base_uri": "https://localhost:8080/"
        },
        "id": "rWKAsa4_8yd0",
        "outputId": "d534fc3a-ab79-4e0c-9107-1656e0a809f3"
      },
      "source": [
        "# Como eu declaro uma lista\n",
        "\n",
        "numero = [] # eu tenho uma lista vazia\n",
        "numeros = [10, 8, 99, 1523, -1, - 5]\n",
        "numeros2 = [11, 1.8, 19, 1.5, 1.3]\n",
        "lista = [10, 'nome', 1.8, True]\n",
        "lista = [[1, 3, 5], 'nome', ['nome2', 'nome3']]\n",
        "\n",
        "# Listas são mutávies\n",
        "\n",
        "nomes = ['João', 'Maria', 'Priscila', 'Gustavo']\n",
        "nomes[-1]\n",
        "\n",
        "nomes.append('Pedro') #adiciona no final da linha\n",
        "nomes.insert(0, 'Tereza') #adiciona no índice indicado\n",
        "\n",
        "nomes[2] = 'Valdir'\n",
        "\n",
        "nomes.remove('Priscila') # aqui remove especificando o que você deseja\n",
        "\n",
        "nomes.reverse()\n",
        "\n",
        "nomes[1:]\n",
        "nomes[1:3]\n",
        "nomes[1:-1]\n",
        "nomes[:-1]\n",
        "nomes[::-1]\n",
        "nomes[::2]\n",
        "'Gustavo' in nomes\n",
        "'Gustavo' not in nomes\n",
        "'Valeria' in nomes\n",
        "\n",
        "#del nomes[-1] # aqui deleta pelo índice\n",
        "nomes\n",
        "nomes.pop()\n",
        "dir(nomes)\n",
        "\n",
        "numeros = [9, 5, 2, 7, 3, 4, 1, 0]\n",
        "numeros.sort()\n",
        "numeros"
      ],
      "execution_count": null,
      "outputs": [
        {
          "output_type": "execute_result",
          "data": {
            "text/plain": [
              "[0, 1, 2, 3, 4, 5, 7, 9]"
            ]
          },
          "metadata": {},
          "execution_count": 23
        }
      ]
    },
    {
      "cell_type": "code",
      "metadata": {
        "colab": {
          "base_uri": "https://localhost:8080/"
        },
        "id": "_xI08rJvemZh",
        "outputId": "a17d8e1d-73eb-41d3-be2c-69e0b0f7185b"
      },
      "source": [
        "nomes = ['Joaquim', 'Walter', 'Viviane', 'Roberta']\n",
        "\n",
        "'''print(nomes[1])\n",
        "print(nomes[2])\n",
        "print(nomes[3])\n",
        "print(nomes[4])'''\n",
        "\n",
        "\n",
        "'''contador = 0\n",
        "\n",
        "while contador < len(nomes):\n",
        "  print(nomes[contador])\n",
        "  contador += 1'''\n",
        "\n",
        "'''for x in nomes:\n",
        "  print(x)'''\n",
        "\n",
        "for cont in range(len(nomes)):\n",
        "  print(nomes[cont])"
      ],
      "execution_count": null,
      "outputs": [
        {
          "output_type": "stream",
          "name": "stdout",
          "text": [
            "Joaquim\n",
            "Walter\n",
            "Viviane\n",
            "Roberta\n"
          ]
        }
      ]
    },
    {
      "cell_type": "markdown",
      "metadata": {
        "id": "RUEqDJFPyHu9"
      },
      "source": [
        "# **Aula de função**"
      ]
    },
    {
      "cell_type": "code",
      "metadata": {
        "id": "DZIRuQDVoclk"
      },
      "source": [
        "def nome_funcao(argumento1, argumento2, argumentoN):\n",
        "  #comandos da função"
      ],
      "execution_count": null,
      "outputs": []
    },
    {
      "cell_type": "code",
      "metadata": {
        "id": "W_TVw-cHA9dM"
      },
      "source": [
        "while True:\n",
        "  try:\n",
        "    numero = int(input(\"Digite um número inteiro: \"))\n",
        "    break\n",
        "  except:\n",
        "    print(\"Número inválido!\")\n",
        "\n",
        "print(numero)"
      ],
      "execution_count": null,
      "outputs": []
    },
    {
      "cell_type": "markdown",
      "metadata": {
        "id": "R8Rzme-EE6xL"
      },
      "source": [
        "# **Aula de Dicionários**"
      ]
    },
    {
      "cell_type": "code",
      "metadata": {
        "colab": {
          "base_uri": "https://localhost:8080/"
        },
        "id": "216Uj75TE_9M",
        "outputId": "b7991780-b9c6-4b48-f0b5-fa23f1d1f310"
      },
      "source": [
        "#Estrutura de DAdos Lista - Índice numéricos\n",
        "\n",
        "lista = ['Maçã', 'Banana', 'Laranja']\n",
        "\n",
        "print(lista)"
      ],
      "execution_count": null,
      "outputs": [
        {
          "output_type": "stream",
          "name": "stdout",
          "text": [
            "['Maçã', 'Banana', 'Laranja']\n"
          ]
        }
      ]
    },
    {
      "cell_type": "code",
      "metadata": {
        "colab": {
          "base_uri": "https://localhost:8080/"
        },
        "id": "uKYJVGeaFUlx",
        "outputId": "fc4298e0-d622-41a3-80ba-9d35da6e1620"
      },
      "source": [
        "#Estrutura de Dados Dicionário - Chave : Valor\n",
        "\n",
        "alunos = {'nome':'João', 'idade': 22, 'telefone': '11999990000'}\n",
        "\n",
        "#print(alunos['nome'])\n",
        "#print(alunos['idade'])\n",
        "#print(alunos['telefone'])\n",
        "\n",
        "alunos_academia = [{'nome':'João', 'idade': 22, 'telefone': '11999990000'},\n",
        "                   {'nome':'Maria', 'idade': 18, 'telefone': '11999990000'},\n",
        "                   {'nome':'Pedro', 'idade': 26, 'telefone': '11999990000'},\n",
        "                   {'nome':'Rafaela', 'idade': 35, 'telefone': '11999990000'}]\n",
        "\n",
        "pessoas = {'nome':'Bismark', 'idade':31, 'cursos':['Engenharia de dados', 'Fullstack Angular', 'Fullstack Mobile']}\n",
        "\n",
        "pessoas['cursos'][1]\n",
        "pessoas['cursos'].append('Banco de Dados')\n",
        "pessoas['cursos']\n",
        "\n",
        "pessoas['nome']\n",
        "alunos_academia[1]['nome']\n",
        "\n",
        "alunos.keys() #Retorna as chaves\n",
        "alunos.values() #Retorna os valores\n",
        "alunos.items() #Retorna chave e valor relacionados\n",
        "\n",
        "alunos.get('nome')\n",
        "alunos.get('idade')\n",
        "\n"
      ],
      "execution_count": null,
      "outputs": [
        {
          "output_type": "execute_result",
          "data": {
            "text/plain": [
              "['Engenharia de dados',\n",
              " 'Fullstack Angular',\n",
              " 'Fullstack Mobile',\n",
              " 'Banco de Dados']"
            ]
          },
          "metadata": {},
          "execution_count": 5
        }
      ]
    },
    {
      "cell_type": "code",
      "metadata": {
        "colab": {
          "base_uri": "https://localhost:8080/"
        },
        "id": "x67RGPCaGdBj",
        "outputId": "f011609b-46bc-4413-94f9-d8fd2747d16e"
      },
      "source": [
        "for lista_alunos in alunos_academia:\n",
        "  for chave, valor in lista_alunos.items():\n",
        "    print(chave + ' = ' + str(valor))"
      ],
      "execution_count": null,
      "outputs": [
        {
          "output_type": "stream",
          "name": "stdout",
          "text": [
            "nome = João\n",
            "idade = 22\n",
            "telefone = 11999990000\n",
            "nome = Maria\n",
            "idade = 18\n",
            "telefone = 11999990000\n",
            "nome = Pedro\n",
            "idade = 26\n",
            "telefone = 11999990000\n",
            "nome = Rafaela\n",
            "idade = 35\n",
            "telefone = 11999990000\n"
          ]
        }
      ]
    },
    {
      "cell_type": "code",
      "metadata": {
        "colab": {
          "base_uri": "https://localhost:8080/"
        },
        "id": "nZAl1uazvN8C",
        "outputId": "809bb958-3884-44c9-9aae-1761c606fedc"
      },
      "source": [
        "print(alunos.items())"
      ],
      "execution_count": null,
      "outputs": [
        {
          "output_type": "stream",
          "name": "stdout",
          "text": [
            "dict_items([('nome', 'João'), ('idade', 22), ('telefone', '11999990000')])\n"
          ]
        }
      ]
    },
    {
      "cell_type": "code",
      "metadata": {
        "colab": {
          "base_uri": "https://localhost:8080/"
        },
        "id": "3zqXUfvwwBeW",
        "outputId": "1066e43f-2ae6-4f14-99a2-44a173e9eea8"
      },
      "source": [
        "#Dicionários\n",
        "\n",
        "lanches = {\n",
        "    'salgados':{\n",
        "        'coxinha': 4.50,\n",
        "        'risoles': 3,\n",
        "        'pastel': 3.50,\n",
        "        'paodequeijo': 3\n",
        "    },\n",
        "    'sucos':{\n",
        "        'laranja': 3,\n",
        "        'Goiaba': 2.5,\n",
        "        'limao': 3.50\n",
        "    }\n",
        "}\n",
        "\n",
        "for c, v in lanches.items():\n",
        "  print()\n",
        "  print(c + ':')\n",
        "  for chave, valor in v.items():\n",
        "    print(f'{chave:.^30}' + ' = ' + f'R${valor:.2f}')"
      ],
      "execution_count": null,
      "outputs": [
        {
          "output_type": "stream",
          "name": "stdout",
          "text": [
            "\n",
            "salgados:\n",
            "...........coxinha............ = R$4.50\n",
            "...........risoles............ = R$3.00\n",
            "............pastel............ = R$3.50\n",
            ".........paodequeijo.......... = R$3.00\n",
            "\n",
            "sucos:\n",
            "...........laranja............ = R$3.00\n",
            "............Goiaba............ = R$2.50\n",
            "............limao............. = R$3.50\n"
          ]
        }
      ]
    },
    {
      "cell_type": "code",
      "metadata": {
        "colab": {
          "base_uri": "https://localhost:8080/"
        },
        "id": "GSmoq1mR3W7b",
        "outputId": "11ced9f5-76a6-4071-a14d-f8c2c9a036b4"
      },
      "source": [
        "for c, v in lanches.items():\n",
        "  if c == 'salgados':\n",
        "    for chave, valor in v.items():\n",
        "      print(c + ' ' + chave + ' = ' + str(valor))\n",
        "      "
      ],
      "execution_count": null,
      "outputs": [
        {
          "output_type": "stream",
          "name": "stdout",
          "text": [
            "salgados coxinha = 4.5\n",
            "salgados risoles = 3\n",
            "salgados pastel = 3.5\n",
            "salgados paodequeijo = 3\n"
          ]
        }
      ]
    },
    {
      "cell_type": "code",
      "metadata": {
        "colab": {
          "base_uri": "https://localhost:8080/"
        },
        "id": "8C-eGbFv5Eek",
        "outputId": "ea1d299a-c3c6-4190-9b98-b2abe8897621"
      },
      "source": [
        "print(*lista)"
      ],
      "execution_count": null,
      "outputs": [
        {
          "output_type": "stream",
          "name": "stdout",
          "text": [
            "Maçã Banana Laranja\n"
          ]
        }
      ]
    },
    {
      "cell_type": "code",
      "metadata": {
        "colab": {
          "base_uri": "https://localhost:8080/"
        },
        "id": "1hXdNJPx-TgX",
        "outputId": "e95161b0-02eb-4981-9d6f-7a9779f230ae"
      },
      "source": [
        "dia = 10\n",
        "mes = 1\n",
        "ano = 2021\n",
        "\n",
        "print(dia, mes, ano, sep='/')"
      ],
      "execution_count": null,
      "outputs": [
        {
          "output_type": "stream",
          "name": "stdout",
          "text": [
            "10/1/2021\n"
          ]
        }
      ]
    },
    {
      "cell_type": "code",
      "metadata": {
        "colab": {
          "base_uri": "https://localhost:8080/"
        },
        "id": "mZ1WqT-e-0b6",
        "outputId": "67d5514b-318a-4891-bf26-2a4c083f982d"
      },
      "source": [
        "alunos = {'nome':'João', 'idade': 22, 'telefone': '11999990000'}\n",
        "\n",
        "alunos['nome'] = 'Carlos'\n",
        "\n",
        "print(alunos)\n",
        "\n",
        "alunos.pop('idade')\n",
        "\n",
        "print(alunos)"
      ],
      "execution_count": null,
      "outputs": [
        {
          "output_type": "stream",
          "name": "stdout",
          "text": [
            "{'nome': 'Carlos', 'idade': 22, 'telefone': '11999990000'}\n",
            "{'nome': 'Carlos', 'telefone': '11999990000'}\n"
          ]
        }
      ]
    },
    {
      "cell_type": "code",
      "metadata": {
        "colab": {
          "base_uri": "https://localhost:8080/"
        },
        "id": "GksVnSg5_YpS",
        "outputId": "68bfe56d-5a5f-47fe-ff9a-66a0eb1899f8"
      },
      "source": [
        "del alunos['telefone']\n",
        "print(alunos)"
      ],
      "execution_count": null,
      "outputs": [
        {
          "output_type": "stream",
          "name": "stdout",
          "text": [
            "{'nome': 'Carlos'}\n"
          ]
        }
      ]
    },
    {
      "cell_type": "code",
      "metadata": {
        "colab": {
          "base_uri": "https://localhost:8080/"
        },
        "id": "ohBi2gnZ_fJx",
        "outputId": "96ba480e-f09d-4569-b92c-e3e9d7dd5be6"
      },
      "source": [
        "#limpar dicionários\n",
        "\n",
        "alunos.clear()\n",
        "alunos = {}\n",
        "\n",
        "print(alunos)"
      ],
      "execution_count": null,
      "outputs": [
        {
          "output_type": "stream",
          "name": "stdout",
          "text": [
            "{}\n"
          ]
        }
      ]
    },
    {
      "cell_type": "code",
      "metadata": {
        "colab": {
          "base_uri": "https://localhost:8080/"
        },
        "id": "qhiAXbE5AbhM",
        "outputId": "b2f440c8-3e97-424f-9330-7f43ce3754aa"
      },
      "source": [
        "#TUPLAS\n",
        "\n",
        "tupla = ()\n",
        "type(tupla)"
      ],
      "execution_count": null,
      "outputs": [
        {
          "output_type": "execute_result",
          "data": {
            "text/plain": [
              "tuple"
            ]
          },
          "metadata": {},
          "execution_count": 26
        }
      ]
    },
    {
      "cell_type": "code",
      "metadata": {
        "colab": {
          "base_uri": "https://localhost:8080/",
          "height": 35
        },
        "id": "1E5Qo0clAmOR",
        "outputId": "3ba35944-ae84-4af8-e4ab-7c99dbe8542a"
      },
      "source": [
        "cores = ('verde', 'amarelo', 'azul', 'branco')\n",
        "\n",
        "cores[0]"
      ],
      "execution_count": null,
      "outputs": [
        {
          "output_type": "execute_result",
          "data": {
            "application/vnd.google.colaboratory.intrinsic+json": {
              "type": "string"
            },
            "text/plain": [
              "'verde'"
            ]
          },
          "metadata": {},
          "execution_count": 27
        }
      ]
    },
    {
      "cell_type": "code",
      "metadata": {
        "colab": {
          "base_uri": "https://localhost:8080/"
        },
        "id": "wQXGGztjA2gv",
        "outputId": "9e54d89d-c727-444c-c424-6ef6f14e6088"
      },
      "source": [
        "cores.index('branco')\n"
      ],
      "execution_count": null,
      "outputs": [
        {
          "output_type": "execute_result",
          "data": {
            "text/plain": [
              "3"
            ]
          },
          "metadata": {},
          "execution_count": 30
        }
      ]
    },
    {
      "cell_type": "code",
      "metadata": {
        "colab": {
          "base_uri": "https://localhost:8080/"
        },
        "id": "Gr0r62LeBbg1",
        "outputId": "eed60d9d-32f5-4244-8042-5a8eba71e29a"
      },
      "source": [
        "cores.count('azul')"
      ],
      "execution_count": null,
      "outputs": [
        {
          "output_type": "execute_result",
          "data": {
            "text/plain": [
              "1"
            ]
          },
          "metadata": {},
          "execution_count": 31
        }
      ]
    },
    {
      "cell_type": "markdown",
      "metadata": {
        "id": "yuMku1tGGBrk"
      },
      "source": [
        "# **Aula de POO**"
      ]
    },
    {
      "cell_type": "code",
      "metadata": {
        "colab": {
          "base_uri": "https://localhost:8080/"
        },
        "id": "izcCOcgWBeW8",
        "outputId": "b37ca04f-cf39-4359-c3ab-9e986ed9cf0d"
      },
      "source": [
        "#CLASSES, OBJETOS, HERANÇA, MÉTODOS, ATRIBUTOS, ENCAPSULAMENTO, POLIMORFISMO\n",
        "\n",
        "class Pessoa:\n",
        "\n",
        "  #MÉTODO CONSTRUTOR - É executado no momento em que eu instancio a classe\n",
        "  def __init__(self, nome, idade, sexo, telefone, falando=False, comendo=False):\n",
        "    self.nome = nome\n",
        "    self.idade = idade\n",
        "    self.sexo = sexo\n",
        "    self.telefone = telefone\n",
        "    self.falando = falando\n",
        "    self.comendo = comendo\n",
        "\n",
        "  #MÉTODOS DA CLASSE\n",
        "\n",
        "  def andar(self):\n",
        "    print('Andando...')\n",
        "\n",
        "  def comer(self, alimento):\n",
        "    if self.comendo:\n",
        "      print(f'{self.nome} já está comendo!')\n",
        "      return\n",
        "    \n",
        "    if self.falando:\n",
        "      print(f'{self.nome} não pode comer falando')\n",
        "      return\n",
        "    \n",
        "    print(f'{self.nome} está comendo {alimento}')\n",
        "    self.comendo = True\n",
        "\n",
        "  def parar_de_comer(self):\n",
        "    if not self.comendo:\n",
        "      print(f'{self.nome} não está comendo')\n",
        "      return\n",
        "\n",
        "    print(f'{self.nome} parou de comer')\n",
        "    self.comendo = False\n",
        "\n",
        "\n",
        "  #def falar():\n",
        "\n",
        "  #def parar_de_falar():\n",
        "\n",
        "#INSTANCIAR A CLASSE - CRIAR UM OBJETO DA CLASSE\n",
        "\n",
        "'''#p1 = Pessoa()\n",
        "p1.nome = 'Carlos Henrique'\n",
        "p1.idade = 65\n",
        "p1.falar()\n",
        "\n",
        "#p2 = Pessoa()\n",
        "p2.nome = 'Vanessa'\n",
        "print(p1.nome)\n",
        "print(p1.idade)\n",
        "print(p2.nome)\n",
        "\n",
        "#p10 = Pessoa()\n",
        "p10.falar()'''\n",
        "'''\n",
        "\n",
        "p1.falar()\n",
        "p1.andar()\n",
        "print(p1.nome)\n",
        "print(p1.idade)\n",
        "p2 = Pessoa('Teresa', 23, 'F', 2121212121)\n",
        "\n",
        "print(p2.falando)\n",
        "print(p1.comendo)'''\n",
        "\n",
        "p1 = Pessoa('Juliana', 10, 'F', 1618415181)\n",
        "p1.comer('Chocolate')\n",
        "p1.comer('Bolo de Morango')\n",
        "p1.parar_de_comer()\n",
        "p1.comer('Bolo de Morango')\n",
        "p1.comer('Nozes')\n",
        "#p1.falar('Futebol')\n",
        "#p1.comer('Biscoito')\n",
        "#p1.parar_de_comer()\n",
        "#p1.comer('Biscoito')"
      ],
      "execution_count": null,
      "outputs": [
        {
          "output_type": "stream",
          "name": "stdout",
          "text": [
            "Juliana está comendo Chocolate\n",
            "Juliana já está comendo!\n",
            "Juliana parou de comer\n",
            "Juliana está comendo Bolo de Morango\n",
            "Juliana já está comendo!\n"
          ]
        }
      ]
    },
    {
      "cell_type": "code",
      "metadata": {
        "id": "OLQW6YXXGoXP"
      },
      "source": [
        ""
      ],
      "execution_count": null,
      "outputs": []
    }
  ]
}