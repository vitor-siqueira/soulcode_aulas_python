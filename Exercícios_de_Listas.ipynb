{
  "nbformat": 4,
  "nbformat_minor": 0,
  "metadata": {
    "colab": {
      "name": "Exercícios de Listas.ipynb",
      "provenance": [],
      "collapsed_sections": []
    },
    "kernelspec": {
      "name": "python3",
      "display_name": "Python 3"
    },
    "language_info": {
      "name": "python"
    }
  },
  "cells": [
    {
      "cell_type": "code",
      "metadata": {
        "id": "Zx-g81gxhKmI"
      },
      "source": [
        "#1) Faça um Programa que leia uma lista de 5 números inteiros e mostre-os.\n",
        "\n",
        "n_lista = []\n",
        "\n",
        "for n in range(5):\n",
        "  numeros = int(input('Digite um número inteiro: '))\n",
        "  n_lista.append(numeros)\n",
        "\n",
        "print(n_lista)"
      ],
      "execution_count": null,
      "outputs": []
    },
    {
      "cell_type": "code",
      "metadata": {
        "id": "7BNxRhR4kYA3"
      },
      "source": [
        "#2) Faça um Programa que leia uma lista de 10 números reais e mostre-os na ordem inversa.\n",
        "\n",
        "n_reais = []\n",
        "\n",
        "for n in range(10):\n",
        "  numeros = float(input('Digite um número real: '))\n",
        "  n_reais.append(numeros)\n",
        "\n",
        "n_reais.sort()\n",
        "n_reais.reverse()\n",
        "print(n_reais)"
      ],
      "execution_count": null,
      "outputs": []
    },
    {
      "cell_type": "code",
      "metadata": {
        "id": "8c9yvMwDmSys"
      },
      "source": [
        "#3) Faça um Programa que leia 4 notas de alunos e armazene-as dentro de uma lista. Em seguida mostre as notas e a média das notas na tela.\n",
        "\n",
        "notas_aluno = []\n",
        "\n",
        "for a in range(4):\n",
        "  notas = float(input(f'Digite a {a + 1}ª nota do aluno: '))\n",
        "\n",
        "  while notas < 0 or notas > 10:\n",
        "    notas = float(input('Valor inválido! Digite uma nota entre 0 e 10: '))\n",
        "  \n",
        "  notas_aluno.append(notas)\n",
        "\n",
        "soma_notas = sum(notas_aluno)\n",
        "media = soma_notas / 4\n",
        "print(f'As notas do aluno foram {notas_aluno} e a média foi {media:.2f}')"
      ],
      "execution_count": null,
      "outputs": []
    },
    {
      "cell_type": "code",
      "metadata": {
        "id": "7C_eIYFbtU_n"
      },
      "source": [
        "'''4) Faça um Programa que leia 20 números inteiros e armazene-os numa lista. Em seguida, crie mais 2 listas, uma para armazenar os números pares\n",
        "e outra para armazenar os números impares. Ao final, Imprima as três listas.'''\n",
        "\n",
        "n_lista = []\n",
        "n_pares = []\n",
        "n_impares = []\n",
        "\n",
        "for n in range(20):\n",
        "  numeros = int(input('Digite um número inteiro: '))\n",
        "  n_lista.append(numeros)\n",
        "\n",
        "  if numeros % 2 == 0:\n",
        "    n_pares.append(numeros)\n",
        "  else:\n",
        "    n_impares.append(numeros)\n",
        "\n",
        "print(f'Os números digitados foram {n_lista}')\n",
        "print(f'Os números pares armazenados foram {n_pares}')\n",
        "print(f'Os números ímpares armazenados foram {n_impares}')"
      ],
      "execution_count": null,
      "outputs": []
    },
    {
      "cell_type": "code",
      "metadata": {
        "id": "Dj-bOp81wOJ_"
      },
      "source": [
        "'''5) Faça um Programa que peça as quatro notas de 10 alunos junto com o seu nome.  Calcule e armazene numa lista a média de cada aluno, bem como em outra lista armazene o nome do aluno.\n",
        "Ao final imprima o número de alunos com média maior ou igual a 7.0 junto com o seu nome.'''\n",
        "\n",
        "nomes_alunos = []\n",
        "medias_alunos = []\n",
        "notas_alunos = []\n",
        "medias7 = []\n",
        "\n",
        "for a in range(10):\n",
        "  nome = input(f'Digite o nome do {a + 1}º aluno: ')\n",
        "  nomes_alunos.append(nome)\n",
        "\n",
        "  for n in range(4):\n",
        "    notas = float(input(f'Digite a {n + 1}ª nota do aluno {nome}: '))\n",
        "\n",
        "    while notas < 0 or notas > 10:\n",
        "      notas = float(input('Valor inválido! Digite uma nota entre 0 e 10: '))    \n",
        "  \n",
        "    notas_alunos.append(notas)\n",
        "\n",
        "    media = sum(notas_alunos) / 4\n",
        "\n",
        "  medias_alunos.append([media])\n",
        "  notas_alunos.clear() #usei o comando clear para limpar as notas (com isso não fica acumulando e contando todos valores dentro da lista)\n",
        "\n",
        "  if media >= 7:\n",
        "    medias7.append([nome, media])\n",
        "\n",
        "print(f'{len(medias7)} alunos ficaram com a média maior ou igual a 7.0 ')\n",
        "print(f'E os alunos são: {medias7}')"
      ],
      "execution_count": null,
      "outputs": []
    },
    {
      "cell_type": "code",
      "metadata": {
        "id": "saI1NMtAV_h-"
      },
      "source": [
        "'''6) Faça um Programa que leia uma lista de 5 números inteiros. Após, percorra a lista e calcule a soma e a multiplicação dos números.\n",
        "Ao final, mostre os números lidos, a soma dos números e a multiplicação entre eles.'''\n",
        "\n",
        "numeros = []\n",
        "mult = 1\n",
        "\n",
        "\n",
        "for n in range(5):\n",
        "  n_Inteiros = int(input('Digite um número: '))\n",
        "  mult *= n_Inteiros\n",
        "  numeros.append(n_Inteiros)\n",
        "  \n",
        "soma = sum(numeros)\n",
        "\n",
        "print(f'Os números digitados foram: {numeros}')\n",
        "print(f'A soma dos números digitados é: {soma}')\n",
        "print(f'A multiplicação dos números digitados é: {mult}')"
      ],
      "execution_count": null,
      "outputs": []
    },
    {
      "cell_type": "code",
      "metadata": {
        "id": "Sy8WBPmLeTxg"
      },
      "source": [
        "# 7) Faça um Programa que leia uma lista A com 10 números inteiros, calcule e mostre a soma dos quadrados dos elementos da lista.\n",
        "\n",
        "A = []\n",
        "\n",
        "for n in range(10):\n",
        "  numeros = int(input('Digite um número inteiro: '))\n",
        "  q = numeros ** 2\n",
        "  A.append(q)\n",
        "\n",
        "soma = sum(A)\n",
        "\n",
        "print(f'A soma dos quadrados dos elementos da lista é: {soma}')"
      ],
      "execution_count": null,
      "outputs": []
    },
    {
      "cell_type": "code",
      "metadata": {
        "id": "6SAU0sPFgG9o"
      },
      "source": [
        "#8) Faça um programa que leia o nome, a idade e a altura de 10 alunos da SoulCode. Em seguida determine quantos alunos com mais de 13 anos possuem altura inferior à média de altura desses alunos.\n",
        "\n",
        "nomes = []\n",
        "idades = []\n",
        "alturas = []\n",
        "alunos = []\n",
        "resultado = []\n",
        "\n",
        "for n in range(10):\n",
        "  nome = input('Digite o nome: ')\n",
        "  nomes.append(nome)\n",
        "\n",
        "  for i in range(1):\n",
        "    idade = int(input('Digite a idade: '))\n",
        "\n",
        "    while idade < 0 or idade > 120:\n",
        "      idade = int(input('Valor inválido! Digite uma idade entre 0 e 120: '))\n",
        "    idades.append(idade)\n",
        "\n",
        "    for a in range(1):\n",
        "      altura = float(input('Digite a altura: '))\n",
        "      while altura < 1 or altura > 3:\n",
        "        altura = float(input('Altura inválida! Digite uma altura entre 1m e 3m: '))\n",
        "      media_alt = sum(alturas) / 10\n",
        "      alturas.append(altura)\n",
        "\n",
        "  while idade >13 and altura < media_alt:\n",
        "    resultado.append([idade, altura])\n",
        "\n",
        "  alunos.append([nome, idade, altura])\n",
        "\n",
        "  if n < 9:\n",
        "    print('Próximo...')\n",
        "  else:\n",
        "    print(\"Fim!\")\n",
        "\n",
        "print(f'A quantidade de alunos com mais de 13 anos e com altura inferior à média da altura é {len(resultado)}')"
      ],
      "execution_count": null,
      "outputs": []
    }
  ]
}